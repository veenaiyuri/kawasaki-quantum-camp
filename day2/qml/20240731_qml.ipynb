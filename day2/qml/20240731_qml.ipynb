{
 "cells": [
  {
   "cell_type": "markdown",
   "id": "c32eb08b",
   "metadata": {},
   "source": [
    "Kawasaki Quantum Summer Camp 2024\n",
    "\n",
    "# 量子機械学習\n",
    "\n",
    "Kifumi Numata, IBM Quantum (Jul 31, 2024)"
   ]
  },
  {
   "cell_type": "markdown",
   "id": "0907969e-c9e6-49be-a2ee-50094a846693",
   "metadata": {},
   "source": [
    "Google Colab で行う場合は、次のセルの「#」を削除して実行します。"
   ]
  },
  {
   "cell_type": "code",
   "execution_count": null,
   "id": "f4e77647-d48e-4b8b-9b4f-1742087e37a1",
   "metadata": {},
   "outputs": [],
   "source": [
    "#!pip install qiskit==1.4.1 qiskit-ibm-runtime==0.35.0 qiskit-aer qiskit[visualization]\n",
    "#!pip install scikit-learn "
   ]
  },
  {
   "cell_type": "markdown",
   "id": "a9f28b0f-4591-4099-a78f-3449de03e7f7",
   "metadata": {},
   "source": [
    "qBraid で行う場合は、右上の「Python 3[Default]」をクリックして「Python 3[QDC24]」を選択し、次のセルの「#」を削除して実行したあと、上部の「Kernel」→「Restart Kernel...」からカーネルをリスタートしてください。"
   ]
  },
  {
   "cell_type": "code",
   "execution_count": null,
   "id": "6e586086-9afa-4dd6-aab1-174c32a2ff9f",
   "metadata": {},
   "outputs": [],
   "source": [
    "#!pip install qiskit==1.4.1 qiskit-ibm-runtime==0.35.0\n",
    "#!pip install scikit-learn "
   ]
  },
  {
   "cell_type": "code",
   "execution_count": null,
   "id": "c6ede8c4",
   "metadata": {},
   "outputs": [],
   "source": [
    "import numpy as np\n",
    "\n",
    "# 描画のため\n",
    "import matplotlib.pyplot as plt\n",
    "\n",
    "# Scikit-learnのインポート(Python用の機械学習ライブラリー)\n",
    "from sklearn import datasets\n",
    "from sklearn.model_selection import train_test_split # データ分割\n",
    "from sklearn.svm import SVC # SVM Classification(SVM分類)\n",
    "from sklearn.decomposition import PCA # Principal component analysis(主成分分析)\n",
    "from sklearn.preprocessing import StandardScaler, MinMaxScaler # 標準化、正規化のスケール変換\n",
    "\n",
    "# Qiskitのインポート\n",
    "from qiskit_aer import AerSimulator\n",
    "from qiskit.circuit import QuantumCircuit, Parameter\n",
    "from qiskit.circuit.library import ZZFeatureMap\n",
    "from qiskit_ibm_runtime import QiskitRuntimeService\n",
    "from qiskit_ibm_runtime import SamplerV2\n",
    "from qiskit.circuit.library import UnitaryOverlap\n",
    "from qiskit.transpiler.preset_passmanagers import generate_preset_pass_manager"
   ]
  },
  {
   "cell_type": "markdown",
   "id": "bb0ba9c5",
   "metadata": {},
   "source": [
    "## データを用意\n",
    "\n",
    "ここでは，手書き数字画像のデータセット(MNISTデータセット)から0と1のサブセットを扱います。"
   ]
  },
  {
   "cell_type": "code",
   "execution_count": null,
   "id": "fd58dabf",
   "metadata": {},
   "outputs": [],
   "source": [
    "# 数字データセットから2クラスのデータ(0と1)を読み込み\n",
    "digits = datasets.load_digits(n_class=2)   \n",
    "\n",
    "# 読み込んだ画像の最初の100枚をプロット\n",
    "fig, axes = plt.subplots(10, 10, figsize=(15, 15), subplot_kw={'xticks':[], 'yticks':[]}, gridspec_kw=dict(hspace=0.5, wspace=0.5))\n",
    "for i, ax in enumerate(axes.flat):\n",
    "    ax.set_axis_off()\n",
    "    ax.imshow(digits.images[i], cmap=plt.cm.gray_r, interpolation='nearest')\n",
    "    ax.set_title(digits.target[i])"
   ]
  },
  {
   "cell_type": "code",
   "execution_count": null,
   "id": "7f9be323",
   "metadata": {},
   "outputs": [],
   "source": [
    "print(digits.images[0])"
   ]
  },
  {
   "cell_type": "markdown",
   "id": "30e94e91",
   "metadata": {},
   "source": [
    "このデータセットには、合計360個のデータが含まれています。各データポイントは、8×8の数字の画像で、配列になっていて、各要素は0（白）から16（黒）までの整数です。古典的な分類アルゴリズムの際と同様に、データセットを学習用（25個）とテスト用（10個）のサンプルに分割し、正規化する必要があります。このデータセットを量子分類アルゴリズムに用いるために、範囲を-1から1の間にスケーリングし、次元を使用する量子ビット数（今回は4）に縮小します。"
   ]
  },
  {
   "cell_type": "code",
   "execution_count": null,
   "id": "4f8a7be2",
   "metadata": {},
   "outputs": [],
   "source": [
    "# データセットの分割\n",
    "sample_train, sample_test, labels_train, labels_test = train_test_split(\n",
    "     digits.data, digits.target, test_size=0.4, random_state=22)\n",
    "\n",
    "# 次元削除\n",
    "n_dim = 4\n",
    "pca = PCA(n_components=n_dim).fit(sample_train)\n",
    "sample_train = pca.transform(sample_train)\n",
    "sample_test = pca.transform(sample_test)\n",
    "\n",
    "# 正規化\n",
    "std_scale = StandardScaler().fit(sample_train)\n",
    "sample_train = std_scale.transform(sample_train)\n",
    "sample_test = std_scale.transform(sample_test)\n",
    "\n",
    "# スケーリング\n",
    "samples = np.append(sample_train, sample_test, axis=0)\n",
    "minmax_scale = MinMaxScaler((-1, 1)).fit(samples)\n",
    "sample_train = minmax_scale.transform(sample_train)\n",
    "sample_test = minmax_scale.transform(sample_test)\n",
    "\n",
    "# 学習用25個とテスト用10個を選択\n",
    "train_size = 25\n",
    "sample_train = sample_train[:train_size]\n",
    "labels_train = labels_train[:train_size]\n",
    "\n",
    "test_size = 10\n",
    "sample_test = sample_test[:test_size]\n",
    "labels_test = labels_test[:test_size]"
   ]
  },
  {
   "cell_type": "code",
   "execution_count": null,
   "id": "2b5e9eb5",
   "metadata": {},
   "outputs": [],
   "source": [
    "# 一つ目のデータをそれぞれ表示\n",
    "print(sample_train[0], labels_train[0])\n",
    "print(sample_test[0], labels_test[0])"
   ]
  },
  {
   "cell_type": "code",
   "execution_count": null,
   "id": "2c4596bc",
   "metadata": {},
   "outputs": [],
   "source": [
    "# 学習用データのラベルを表示\n",
    "print(labels_train)"
   ]
  },
  {
   "cell_type": "markdown",
   "id": "8a907673",
   "metadata": {},
   "source": [
    "## データ符号化(エンコード)\n",
    "\n",
    "この古典データを、量子特徴量マップ(ZZFeatureMap)を用いて量子状態空間にエンコードしていきます。"
   ]
  },
  {
   "cell_type": "code",
   "execution_count": null,
   "id": "a178711f",
   "metadata": {},
   "outputs": [],
   "source": [
    "# 4特徴量、深さ(繰り返し数)1のZZFeatureMap\n",
    "zz_map = ZZFeatureMap(feature_dimension=4, reps=1, entanglement='linear', insert_barriers=True)\n",
    "zz_map.decompose().draw('mpl')"
   ]
  },
  {
   "cell_type": "markdown",
   "id": "8e53d756",
   "metadata": {},
   "source": [
    "### 量子カーネルの計算\n",
    "\n",
    "ZZFeatureMapを使って、学習データの0個目と1個目のデータについて、量子カーネルを計算する量子回路を作成し、実際に計算してみます。この値は、二つの量子状態のFidelity(忠実度)ともいいます。"
   ]
  },
  {
   "cell_type": "code",
   "execution_count": null,
   "id": "c941d90b",
   "metadata": {},
   "outputs": [],
   "source": [
    "print(sample_train[0])\n",
    "print(sample_train[1])"
   ]
  },
  {
   "cell_type": "code",
   "execution_count": null,
   "id": "8e7b3fff",
   "metadata": {},
   "outputs": [],
   "source": [
    "zz_map = ZZFeatureMap(feature_dimension=4, reps=1, entanglement='linear')\n",
    "qc_1 =zz_map.assign_parameters(sample_train[0])\n",
    "qc_2 =zz_map.assign_parameters(sample_train[1])\n",
    "fidelity_circuit = qc_1.copy()\n",
    "fidelity_circuit.append(qc_2.inverse().decompose(), range(fidelity_circuit.num_qubits))\n",
    "fidelity_circuit.measure_all()\n",
    "fidelity_circuit.decompose().draw('mpl')"
   ]
  },
  {
   "cell_type": "markdown",
   "id": "8d266ee9",
   "metadata": {},
   "source": [
    "各回転ゲートのパラメーター値は少し読みにくいですが、回路が対称になっていることが分かると思います。左半分は学習データsample_train[0]が、右半分は学習データsample_train[1]がコード化されています。\n",
    "\n",
    "例として、上記の量子カーネルを測定し、ゼロ状態のカウント数の割合として、カーネル行列の要素（訓練データの0個目と1個目のデータについて）を計算します。"
   ]
  },
  {
   "cell_type": "code",
   "execution_count": null,
   "id": "82e45007-3074-4d76-8a73-7f822757b89d",
   "metadata": {},
   "outputs": [],
   "source": [
    "# シミュレーターで実験\n",
    "backend = AerSimulator()\n",
    "# 回路を最適化\n",
    "pm = generate_preset_pass_manager(backend=backend, optimization_level=1)\n",
    "isa_qc = pm.run(fidelity_circuit)"
   ]
  },
  {
   "cell_type": "code",
   "execution_count": null,
   "id": "102cbe2a-da3d-49af-b06f-75b76b38f474",
   "metadata": {},
   "outputs": [],
   "source": [
    "nshots = 1024\n",
    "# Samplerで実行\n",
    "sampler = SamplerV2(backend)\n",
    "job = sampler.run([isa_qc], shots=nshots)\n",
    "result = job.result()\n",
    "\n",
    "#  測定された回数を表示\n",
    "counts = result[0].data.meas.get_counts()\n",
    "print(counts)"
   ]
  },
  {
   "cell_type": "code",
   "execution_count": null,
   "id": "4ee6cc06-aeac-46e3-ab05-cf76a3f9ab59",
   "metadata": {},
   "outputs": [],
   "source": [
    "counts.get('0000')/sum(counts.values())"
   ]
  },
  {
   "cell_type": "markdown",
   "id": "b564a780",
   "metadata": {},
   "source": [
    "### 量子カーネル計算\n",
    "\n",
    "このプロセスを，学習データサンプルのペアごとに繰り返して学習カーネル行列を埋めていきます。\n",
    "先ほどど同じ `ZZFeatureMap` を用いて量子回路を作り、また、今回は、 ``UnitaryOverlap`` を使ってカーネル行列の要素となるfidelityを計算します。"
   ]
  },
  {
   "cell_type": "code",
   "execution_count": null,
   "id": "6ba137e1",
   "metadata": {},
   "outputs": [],
   "source": [
    "zz_map = ZZFeatureMap(feature_dimension=4, reps=1, entanglement='linear')\n",
    "fidelity = UnitaryOverlap(zz_map, zz_map)\n",
    "fidelity.measure_all()"
   ]
  },
  {
   "cell_type": "markdown",
   "id": "625e2cd9-a43a-482c-97df-6484bfe1af3e",
   "metadata": {},
   "source": [
    "回路の形状を見てみましょう。"
   ]
  },
  {
   "cell_type": "code",
   "execution_count": null,
   "id": "337607ac-e8cd-459a-9f3f-a82546cf6860",
   "metadata": {},
   "outputs": [],
   "source": [
    "fidelity.decompose().draw('mpl', idle_wires=False, fold=-1)"
   ]
  },
  {
   "cell_type": "markdown",
   "id": "4f299533-2256-4514-a046-46808a225453",
   "metadata": {},
   "source": [
    "### 計算すべきカーネル行列の要素数\n",
    "\n",
    "データ数が$n$のとき、カーネル行列は、$n \\times n$ の形をしていて、要素数は、$n^2$個です。しかし、カーネル行列は、[対称行列](https://ja.wikipedia.org/wiki/%E5%AF%BE%E7%A7%B0%E8%A1%8C%E5%88%97)であるため、計算する要素数を少なくすることができます。また、対角要素がみな1であることがわかっているため、この計算も省けます。（参照：[対角行列](https://ja.wikipedia.org/wiki/%E5%AF%BE%E8%A7%92%E8%A1%8C%E5%88%97)）よってデータ数が$n$のとき、計算しなければならないカーネル行列の要素数は、\n",
    "$$ (n-1) + (n-2) + ... + 2 + 1 $$\n",
    "個です。\n",
    "この数の分だけ、量子カーネルのパラメーター化回路を作成し、計算する必要があります。\n",
    "\n",
    "今回は、データ数が$n=25$なので、カーネル行列には$25 \\times 25=625$個の要素がありますが、計算に必要な要素数は、以下より$300$個であることがわかります。"
   ]
  },
  {
   "cell_type": "code",
   "execution_count": null,
   "id": "b93833d7-9975-464b-90c2-b1c289d1d69e",
   "metadata": {},
   "outputs": [],
   "source": [
    "n = 25\n",
    "circuit_num = np.arange(0,n).sum() #0~24までの数列の和\n",
    "print(circuit_num)"
   ]
  },
  {
   "cell_type": "markdown",
   "id": "4b241b69-a2cf-42ff-bc1c-95a0e63f9cf2",
   "metadata": {},
   "source": [
    "### 量子カーネル回路にデータをエンコードする関数\n",
    "次に、量子カーネル回路にデータをエンコードするデータのリスト `data_append_train` を作成します。ここで、`n`はデータ数、`x1`、`x2`は入力するデータのリストです。"
   ]
  },
  {
   "cell_type": "code",
   "execution_count": null,
   "id": "efe3d7a1-f3b3-4d36-9869-c4e32967ace3",
   "metadata": {},
   "outputs": [],
   "source": [
    "def data_append_train(n, x1, x2):\n",
    "    para_data = []\n",
    "    #\n",
    "    for i in range(n):\n",
    "        for j in range(n):\n",
    "            if i<j:\n",
    "                para_data.append(list(x1[i])+list(x2[j]))\n",
    "    #   \n",
    "    return para_data"
   ]
  },
  {
   "cell_type": "markdown",
   "id": "ab6632ce-f660-4f3c-9060-60141af0ecdd",
   "metadata": {},
   "source": [
    "学習データとして、手書き数字画像のデータセット(MNISTデータセット)から作成した `sample_train` を使用して、パラメーターリスト`parameter_train`を作ります。"
   ]
  },
  {
   "cell_type": "code",
   "execution_count": null,
   "id": "7771e61b-2a46-4ab9-9bf2-1c5b84708bce",
   "metadata": {},
   "outputs": [],
   "source": [
    "parameter_train = data_append_train(n, sample_train, sample_train)"
   ]
  },
  {
   "cell_type": "markdown",
   "id": "6fa3f292-61ad-4c30-b378-c9120b33c7ca",
   "metadata": {},
   "source": [
    "### 量子カーネル回路をSamplerで計算"
   ]
  },
  {
   "cell_type": "markdown",
   "id": "64e91344-6cba-46a8-bec2-58eb2c413eb1",
   "metadata": {},
   "source": [
    "backendで実行可能な形にトランスパイルされた`isa_circuit`とパラメーターリスト`parameter_train`を引数 PUB (primitive unified blocs)として入力することで、パラメーターリストの数、つまり300回分の`isa_circuit`を一度にSamplerで実行します。"
   ]
  },
  {
   "cell_type": "code",
   "execution_count": null,
   "id": "5322e47c-1078-441e-b002-699a34ab9fd2",
   "metadata": {},
   "outputs": [],
   "source": [
    "# シミュレーターで実験\n",
    "backend = AerSimulator()\n",
    "# 回路を最適化\n",
    "pm = generate_preset_pass_manager(backend=backend, optimization_level=1)\n",
    "isa_qc = pm.run(fidelity)\n",
    "\n",
    "# Samplerで実行\n",
    "sampler = SamplerV2(backend)\n",
    "pub = (isa_qc, parameter_train) #samplerに入れる引数\n",
    "job = sampler.run([pub], shots=nshots)\n",
    "quantum_kernel = job.result()"
   ]
  },
  {
   "cell_type": "markdown",
   "id": "a5c1e0e4-14e7-453d-86f4-26613ecad89f",
   "metadata": {},
   "source": [
    "実行結果からカーネル行列`K`を作ります。まず`kernel_list`のリストに300個のカウント結果を入れます。すべて要素がゼロの $n \\times n$ のカーネル行列`K` を作り、順に結果を入れていきます。"
   ]
  },
  {
   "cell_type": "code",
   "execution_count": null,
   "id": "4cd08115-a61b-4870-b7b2-a444d4c7e451",
   "metadata": {},
   "outputs": [],
   "source": [
    "def kernel(quantum_kernel, circuit_num, n):\n",
    "    kernel_list = []\n",
    "    for i in range(circuit_num):\n",
    "        kernel_list += [quantum_kernel[0].data.meas.get_counts(i).get('0000',0)/nshots]\n",
    "\n",
    "    K = np.zeros((n,n))\n",
    "    count = 0\n",
    "    for i in range(n):\n",
    "        for j in range(n):\n",
    "            if j<i:\n",
    "                K[i,j] = K[j,i]\n",
    "            else:\n",
    "                if j==i:\n",
    "                    K[i,j] = 1\n",
    "                else:\n",
    "                    K[i,j] = kernel_list[count]\n",
    "                    count+=1\n",
    "    return K"
   ]
  },
  {
   "cell_type": "code",
   "execution_count": null,
   "id": "54ea5523-4abf-47cc-9a1d-a073830be85e",
   "metadata": {},
   "outputs": [],
   "source": [
    "K = kernel(quantum_kernel, circuit_num, n)"
   ]
  },
  {
   "cell_type": "markdown",
   "id": "4be9ee44-2ce4-4b19-a37d-dfb0187e9268",
   "metadata": {},
   "source": [
    "完成したカーネル行列をプロットしてみましょう。"
   ]
  },
  {
   "cell_type": "code",
   "execution_count": null,
   "id": "342784c0-dee7-4f78-b415-1c354ab178b2",
   "metadata": {},
   "outputs": [],
   "source": [
    "# カーネル行列の表示\n",
    "fig, axs = plt.subplots(1, 1, figsize=(8, 4))\n",
    "axs.imshow(np.asmatrix(K),\n",
    "              interpolation='nearest', origin='upper', cmap='Blues')\n",
    "axs.set_title(\"training kernel matrix\")"
   ]
  },
  {
   "cell_type": "markdown",
   "id": "7ae61ff1-1613-4e2c-a4df-0381df319f6d",
   "metadata": {},
   "source": [
    "## 学習\n",
    "古典SVM分類器`scikit-learn`の`SVC`アルゴリズムを使って学習し、テストデータで学習率を見てみます。"
   ]
  },
  {
   "cell_type": "code",
   "execution_count": null,
   "id": "cba58777-a7a1-4ebf-a829-fefe1a41cda1",
   "metadata": {},
   "outputs": [],
   "source": [
    "svc_m = SVC(kernel='precomputed') \n",
    "# SVM で学習します\n",
    "svc_m.fit(K, labels_train)\n",
    "\n",
    "# 学習データの学習率を見てみます\n",
    "y_predict = svc_m.predict(K)\n",
    "print('accuracy (sim):', sum(y_predict == labels_train)/len(labels_train))"
   ]
  },
  {
   "cell_type": "code",
   "execution_count": null,
   "id": "efa97bde-f80a-4a52-8005-aa4377396a01",
   "metadata": {},
   "outputs": [],
   "source": [
    "print(labels_train, y_predict)"
   ]
  },
  {
   "cell_type": "markdown",
   "id": "1c3792eb-5a18-4aaf-93d2-73882e2fb276",
   "metadata": {},
   "source": [
    "100%の確率で学習されました。つまり、正確な量子分類器を作成することに成功しました。"
   ]
  },
  {
   "cell_type": "markdown",
   "id": "13bd925c-467c-4b5a-93f1-d11c2cdb3ae8",
   "metadata": {},
   "source": [
    "### 学習データとテストデータとのカーネル行列の作成\n",
    "\n",
    "テスト用のデータを使って、上で作った量子分類機でラベル(0または1)を予測してみましょう。そのためには、学習データとテストデータとのカーネル行列を作成する必要があります。この行列は、テストデータが10個、学習データが25個なので、$25 \\times 10=250$個のカーネル回路の計算が必要になります。"
   ]
  },
  {
   "cell_type": "code",
   "execution_count": null,
   "id": "06f94865-78ae-494b-b89c-909bd8d44b15",
   "metadata": {},
   "outputs": [],
   "source": [
    "n1 = 10 #テストデータの数\n",
    "n2 = 25 #学習データの数\n",
    "circuit_num_test = n1 * n2\n",
    "print(circuit_num_test)"
   ]
  },
  {
   "cell_type": "markdown",
   "id": "6b68cca4-a765-4ed9-94b8-7ae438d4ee32",
   "metadata": {},
   "source": [
    "量子カーネル回路にデータをエンコードする関数`data_append_test`は、以下のように作られ、ここで`x1`は テストデータのリスト、`x2`は学習データのリストです。"
   ]
  },
  {
   "cell_type": "code",
   "execution_count": null,
   "id": "4431ccfe-b22e-4389-aab6-4ddade1db41d",
   "metadata": {},
   "outputs": [],
   "source": [
    "def data_append_test(n1, n2, x1, x2):\n",
    "    data_append_test = []\n",
    "    for i in range(n1):\n",
    "        for j in range(n2):\n",
    "            data_append_test.append(list(x1[i])+list(x2[j]))\n",
    "    return data_append_test"
   ]
  },
  {
   "cell_type": "markdown",
   "id": "b4e3a7d8-be9f-40ba-9983-19fdc878e027",
   "metadata": {},
   "source": [
    "テストデータ`sample_test`と学習データ`sample_train`を使用して、パラメーターリスト`parameter_test`を作り、samplerでカーネル計算回路を計算します。"
   ]
  },
  {
   "cell_type": "code",
   "execution_count": null,
   "id": "9cba7c9e-521f-4615-9bea-7fbc03e10f25",
   "metadata": {},
   "outputs": [],
   "source": [
    "parameter_test = data_append_test(n1, n2, sample_test, sample_train)"
   ]
  },
  {
   "cell_type": "markdown",
   "id": "4149ef76-da0d-435e-b638-0ad13a296cca",
   "metadata": {},
   "source": [
    "backendで実行可能な形にトランスパイルされた`isa_qc`とパラメーターリスト`parameter_test`を引数 PUB (primitive unified blocs)として入力することで、パラメーターリストの数、つまり250回分の`isa_qc`を一度にSamplerで実行します。"
   ]
  },
  {
   "cell_type": "code",
   "execution_count": null,
   "id": "dde56f48-7454-4ed1-9613-077c6c879a41",
   "metadata": {},
   "outputs": [],
   "source": [
    "# シミュレーターで実験\n",
    "backend = AerSimulator()\n",
    "# 回路を最適化\n",
    "pm = generate_preset_pass_manager(backend=backend, optimization_level=1)\n",
    "isa_qc = pm.run(fidelity)\n",
    "\n",
    "# Samplerで実行\n",
    "sampler = SamplerV2(backend)\n",
    "parameter_list_test = data_append_test(n1, n2, sample_test, sample_train)\n",
    "pub = (isa_qc, parameter_test) #samplerに入れる引数\n",
    "job = sampler.run([pub], shots=nshots)\n",
    "quantum_kernel_test = job.result()"
   ]
  },
  {
   "cell_type": "markdown",
   "id": "cf171161-32e5-4ab5-9362-4b647757243a",
   "metadata": {},
   "source": [
    "実行結果からカーネル行列`K_test`を作ります。まず`kernel_list`のリストに250個のカウント結果を入れます。すべて要素がゼロのカーネル行列`K_test`を作り、順に結果を入れていきます。"
   ]
  },
  {
   "cell_type": "code",
   "execution_count": null,
   "id": "52fd7950-2544-4e7e-9616-ec49b64bf29d",
   "metadata": {},
   "outputs": [],
   "source": [
    "def kernel_test(quantum_kernel_test, circuit_num_test, n1, n2):\n",
    "    kernel_list = []\n",
    "    for i in range(circuit_num_test):\n",
    "        kernel_list += [quantum_kernel_test[0].data.meas.get_counts(i).get('0000',0)/nshots]\n",
    "\n",
    "    K_test = np.zeros((n1, n2))\n",
    "    count = 0\n",
    "    for i in range(n1):\n",
    "        for j in range(n2):\n",
    "            K_test [i,j] = kernel_list[count]\n",
    "            count+=1\n",
    "    return K_test"
   ]
  },
  {
   "cell_type": "code",
   "execution_count": null,
   "id": "750cf84f-0acc-4b9b-86e4-cce7596982b0",
   "metadata": {},
   "outputs": [],
   "source": [
    "K_test = kernel_test(quantum_kernel_test, circuit_num_test, n1, n2)\n",
    "\n",
    "# カーネル行列の表示\n",
    "fig, axs = plt.subplots(1, 1, figsize=(4, 2))\n",
    "axs.imshow(np.asmatrix(K_test),\n",
    "              interpolation='nearest', origin='upper', cmap='Reds')\n",
    "axs.set_title(\"testing kernel matrix\")"
   ]
  },
  {
   "cell_type": "code",
   "execution_count": null,
   "id": "0c062b31-3b2e-4dd6-a758-54b3257220df",
   "metadata": {},
   "outputs": [],
   "source": [
    "#学習データとテストデータとのカーネル行列を使ってテストデータのラベルを予測\n",
    "label_predict = svc_m.predict(K_test)\n",
    "print(label_predict, labels_test)"
   ]
  },
  {
   "cell_type": "code",
   "execution_count": null,
   "id": "38b9d027-79f0-436c-bddd-9fac1a0435d2",
   "metadata": {},
   "outputs": [],
   "source": [
    "#精度を見てみます\n",
    "print('accuracy (sim):', sum(label_predict == labels_test)/len(labels_test))"
   ]
  },
  {
   "cell_type": "markdown",
   "id": "dce8fdab-aa3b-4492-89ec-b3aef024dd7e",
   "metadata": {},
   "source": [
    "## 実機で実行するには\n",
    "\n",
    "実機で実行するには、バックエンドに実デバイスを指定し、実機に合わせてトランスパイルして、実行するだけです。ただし、各実験に5分、4分の合計9分かかってしまうため、皆さんが実行するのは、またの機会にしたいと思います。以下は、ibm_kyotoで実験した結果です。よく判別できています。"
   ]
  },
  {
   "cell_type": "code",
   "execution_count": null,
   "id": "6ce9b642-ebbf-40e6-a516-c1449a3458fc",
   "metadata": {},
   "outputs": [],
   "source": [
    "# local環境で初めて実行する場合は、認証情報をディスクに保存します：\n",
    "# QiskitRuntimeService.save_account(channel='ibm_quantum', instance='ibm-q/open/main', token='<IBM Quantum API key>')\n",
    "service = QiskitRuntimeService()"
   ]
  },
  {
   "cell_type": "code",
   "execution_count": null,
   "id": "c661cc51-1c2b-4922-b2ee-354ad642caad",
   "metadata": {},
   "outputs": [],
   "source": [
    "#一番空いているバックエンドを自動的に選択することもできます\n",
    "backend = service.least_busy(operational=True)\n",
    "print(\"最も空いているバックエンドは: \", backend)"
   ]
  },
  {
   "cell_type": "code",
   "execution_count": null,
   "id": "74b9237f-1f29-4818-a22f-ff026d7bcd70",
   "metadata": {},
   "outputs": [],
   "source": [
    "# 以下でデバイスを指定できます。\n",
    "backend = service.backend('ibm_brisbane')"
   ]
  },
  {
   "cell_type": "code",
   "execution_count": null,
   "id": "092a0710-03e8-49db-a912-0ca8cdd5906c",
   "metadata": {},
   "outputs": [],
   "source": [
    "# 回路を実機で実行可能な基底ゲートにトランスパイルします\n",
    "pm = generate_preset_pass_manager(backend=backend, optimization_level=1)\n",
    "isa_circuit = pm.run(fidelity)\n",
    "isa_circuit.draw(\"mpl\", idle_wires=False, fold=-1)"
   ]
  },
  {
   "cell_type": "markdown",
   "id": "b230de07-f734-4a50-b018-e27466888937",
   "metadata": {},
   "source": [
    "### 学習データと学習データとのカーネル行列の作成(実機)"
   ]
  },
  {
   "cell_type": "code",
   "execution_count": null,
   "id": "432c4904-0d6d-4501-9f70-dc2bbab1028c",
   "metadata": {},
   "outputs": [],
   "source": [
    "nshots = 1024\n",
    "sampler = SamplerV2(backend)\n",
    "pub = (isa_circuit, parameter_train)\n",
    "#job = sampler.run([pub], shots=nshots) #ここの#を外すと実行できます。\n",
    "job.job_id() # job idの確認"
   ]
  },
  {
   "cell_type": "code",
   "execution_count": null,
   "id": "f91f6bf8-80f3-4220-9270-cc8130b31464",
   "metadata": {},
   "outputs": [],
   "source": [
    "job = service.job('d049kp4l3fjs7395fdfg') \n",
    "job.status() # ジョブの実行状態を確認します"
   ]
  },
  {
   "cell_type": "code",
   "execution_count": null,
   "id": "22f17092-e55b-44f4-be56-d486ae56e71b",
   "metadata": {},
   "outputs": [],
   "source": [
    "#### 上のセルがDONEになってから実行します ####\n",
    "quantum_kernel = job.result()"
   ]
  },
  {
   "cell_type": "code",
   "execution_count": null,
   "id": "2b9cc247-ce74-4a91-a9f2-5fd2994416cb",
   "metadata": {},
   "outputs": [],
   "source": [
    "K = kernel(quantum_kernel, circuit_num, n)\n",
    "# カーネル行列の表示\n",
    "fig, axs = plt.subplots(1, 1, figsize=(8, 4))\n",
    "axs.imshow(np.asmatrix(K),\n",
    "              interpolation='nearest', origin='upper', cmap='Blues')\n",
    "axs.set_title(\"training kernel matrix\")"
   ]
  },
  {
   "cell_type": "code",
   "execution_count": null,
   "id": "eb49c5ec-4499-413b-8925-e610456c462e",
   "metadata": {},
   "outputs": [],
   "source": [
    "svc = SVC(kernel='precomputed') \n",
    "# SVM で学習します\n",
    "svc.fit(K, labels_train)\n",
    "\n",
    "# 学習データの学習率を見てみます\n",
    "y_predict = svc.predict(K)\n",
    "print('accuracy (sim):', sum(y_predict == labels_train)/len(labels_train))"
   ]
  },
  {
   "cell_type": "markdown",
   "id": "5309cd69-d58a-4ae5-bbdb-4fd54d79fb21",
   "metadata": {},
   "source": [
    "### 学習データとテストデータとのカーネル行列の作成(実機)"
   ]
  },
  {
   "cell_type": "code",
   "execution_count": null,
   "id": "00823c45-5b6f-4677-aa1a-48a99b5e2cd2",
   "metadata": {},
   "outputs": [],
   "source": [
    "sampler = SamplerV2(backend)\n",
    "pub = (isa_circuit, parameter_test)\n",
    "#job = sampler.run([pub], shots=nshots) #を外すと実行できます\n",
    "job.job_id() # job idの確認"
   ]
  },
  {
   "cell_type": "code",
   "execution_count": null,
   "id": "ccdf3a3a-6500-4168-abcf-50d8a1569c73",
   "metadata": {},
   "outputs": [],
   "source": [
    "job = service.job('d049m8mn74ec73b56ejg') \n",
    "job.status() # ジョブの実行状態を確認します"
   ]
  },
  {
   "cell_type": "code",
   "execution_count": null,
   "id": "e714f1c7-de63-49a3-b445-5b1b6ab1b835",
   "metadata": {},
   "outputs": [],
   "source": [
    "#### 上のセルがDONEになってから実行します ####\n",
    "quantum_kernel_test = job.result()"
   ]
  },
  {
   "cell_type": "code",
   "execution_count": null,
   "id": "c31968cd-3fa1-422f-9f49-448b860abf01",
   "metadata": {},
   "outputs": [],
   "source": [
    "K_test = kernel_test(quantum_kernel_test, circuit_num_test, n1, n2)\n",
    "\n",
    "# カーネル行列の表示\n",
    "fig, axs = plt.subplots(1, 1, figsize=(4, 2))\n",
    "axs.imshow(np.asmatrix(K_test),\n",
    "              interpolation='nearest', origin='upper', cmap='Reds')\n",
    "axs.set_title(\"testing kernel matrix\")"
   ]
  },
  {
   "cell_type": "code",
   "execution_count": null,
   "id": "cbe174f9-4452-4a00-956a-e3aab291ed58",
   "metadata": {},
   "outputs": [],
   "source": [
    "svc = SVC(kernel='precomputed')\n",
    "# train SVM\n",
    "svc.fit(K, labels_train)\n",
    "\n",
    "# score SVM on training data\n",
    "y_predict = svc.predict(K)\n",
    "print('accuracy (sim):', sum(y_predict == labels_train)/len(labels_train))"
   ]
  },
  {
   "cell_type": "markdown",
   "id": "11bf1652",
   "metadata": {},
   "source": [
    "# 洋服画像データの分類\n"
   ]
  },
  {
   "cell_type": "markdown",
   "id": "c86b1f38",
   "metadata": {},
   "source": [
    "ここで扱うデータは，MNISTデータセットの亜種である[Fashion-MNIST](https://github.com/zalandoresearch/fashion-mnist/blob/master/README.ja.md)という洋服画像データセットのサブセットです。"
   ]
  },
  {
   "cell_type": "markdown",
   "id": "b7f46173",
   "metadata": {},
   "source": [
    "<center><div><img src=\"https://raw.githubusercontent.com/zalandoresearch/fashion-mnist/refs/heads/master/doc/img/fashion-mnist-sprite.png\" width=\"640\" /></div></center>\n",
    "\n",
    "Image source:[Fashion-MNIST](https://github.com/zalandoresearch/fashion-mnist/blob/master/README.ja.md)"
   ]
  },
  {
   "cell_type": "markdown",
   "id": "2a5c7f23",
   "metadata": {},
   "source": [
    "以下のラベルの画像について分類します。\n",
    "\n",
    "- label 2: プルオーバー\n",
    "- label 3: ドレス\n",
    "\n",
    "まずデータセットを読み込んで，クラスごとに1枚ずつ画像を表示してみます。"
   ]
  },
  {
   "attachments": {},
   "cell_type": "markdown",
   "id": "a7411642-5bd5-4aa7-bd0a-9baa629b8c4e",
   "metadata": {},
   "source": [
    "**注意**：Google Colab で行う場合は、左側のフォルダーアイコンをクリックし、`fashion.npz`をセッションストレージにアップロードし、ファイルを右クリックして、ファイルのパスをコピーし、以下のセルの`DATA_PATH = 'パス名'`にセットします。\n",
    "\n",
    "![image.jpg](https://raw.githubusercontent.com/quantum-tokyo/kawasaki-quantum-camp/refs/heads/main/day2/qml/upload_file.jpg)\n",
    "\n",
    "それ以外の環境の方は、このnotebookと同じフォルダーに`fashion.npz`を保存します。"
   ]
  },
  {
   "cell_type": "code",
   "execution_count": null,
   "id": "3393fc6f",
   "metadata": {},
   "outputs": [],
   "source": [
    "# データのロード\n",
    "DATA_PATH = 'fashion.npz' # Google colabの場合はここにパスを上書きしてください。\n",
    "data = np.load(DATA_PATH)\n",
    "\n",
    "sample_train = data['sample_train']\n",
    "labels_train = data['labels_train']\n",
    "sample_test = data['sample_test']\n",
    "\n",
    "# データセットの分割\n",
    "sample_train, sample_test, labels_train, labels_test = train_test_split(\n",
    "    sample_train, labels_train, test_size=0.2, random_state=42)\n",
    "\n",
    "# データの表示\n",
    "fig = plt.figure()\n",
    "LABELS = [2,3]\n",
    "num_labels = len(LABELS)\n",
    "for i in range(num_labels):\n",
    "    ax = fig.add_subplot(2, num_labels, i+1)\n",
    "    img = sample_train[labels_train==LABELS[i]][0].reshape((28, 28))\n",
    "    ax.imshow(img, cmap=\"Greys\")"
   ]
  },
  {
   "cell_type": "markdown",
   "id": "5262207e",
   "metadata": {},
   "source": [
    "次に，以下のデータセットの前処理をします\n",
    "\n",
    "- 主成分分析(PCA)による次元圧縮\n",
    "- 正規化\n",
    "- スケーリング\n",
    "- 学習用（80個）とテスト用（10個）のサンプルを選択\n"
   ]
  },
  {
   "cell_type": "code",
   "execution_count": null,
   "id": "5fab643c",
   "metadata": {},
   "outputs": [],
   "source": [
    "# 次元削除\n",
    "N_DIM = 4\n",
    "pca = PCA(n_components=N_DIM).fit(sample_train)\n",
    "sample_train = pca.transform(sample_train)\n",
    "sample_test = pca.transform(sample_test)\n",
    "\n",
    "# 正規化\n",
    "std_scale = StandardScaler().fit(sample_train)\n",
    "sample_train = std_scale.transform(sample_train)\n",
    "sample_test = std_scale.transform(sample_test)\n",
    "\n",
    "# スケーリング\n",
    "samples = np.append(sample_train, sample_test, axis=0)\n",
    "minmax_scale = MinMaxScaler((-1, 1)).fit(samples)\n",
    "sample_train = minmax_scale.transform(sample_train)\n",
    "sample_test = minmax_scale.transform(sample_test)\n",
    "\n",
    "# 選択\n",
    "train_size = 80\n",
    "sample_train = sample_train[:train_size]\n",
    "labels_train = labels_train[:train_size]\n",
    "\n",
    "test_size = 10\n",
    "sample_test = sample_test[:test_size]\n",
    "labels_test = labels_test[:test_size]"
   ]
  },
  {
   "cell_type": "code",
   "execution_count": null,
   "id": "84574a68",
   "metadata": {},
   "outputs": [],
   "source": [
    "# 一つ目のデータをそれぞれ表示\n",
    "print(sample_train[0], labels_train[0])\n",
    "print(sample_test[0], labels_test[0])"
   ]
  },
  {
   "cell_type": "markdown",
   "id": "2e933c27",
   "metadata": {},
   "source": [
    "## 演習\n",
    "\n",
    "この洋服画像データについて、特徴量マップ(ZZFeatureMap)を使ってカーネル行列を計算し、古典のSVMを使って学習してみます。学習率を確認してみましょう。「#コードを入れてください」にコードを記入して、コードを完成させてください。\n"
   ]
  },
  {
   "cell_type": "code",
   "execution_count": null,
   "id": "b6703957",
   "metadata": {},
   "outputs": [],
   "source": [
    "zz_map =  #コードを入れてください -1\n",
    "fidelity =  #コードを入れてください -2\n",
    "fidelity.measure_all()\n",
    "fidelity.decompose().draw('mpl', idle_wires=False, fold=-1)"
   ]
  },
  {
   "cell_type": "markdown",
   "id": "e79f65d7",
   "metadata": {},
   "source": [
    "まず、学習データ同士のカーネル行列を計算します。"
   ]
  },
  {
   "cell_type": "code",
   "execution_count": null,
   "id": "de974f9d-4afe-4954-9a18-844f6ff7beff",
   "metadata": {},
   "outputs": [],
   "source": [
    "# 計算すべきカーネル行列の要素数の計算\n",
    "n = train_size \n",
    "circuit_num = np.arange(0,n).sum() #0~n-1までの数列の和\n",
    "print(circuit_num)"
   ]
  },
  {
   "cell_type": "markdown",
   "id": "7d60296d-9e61-4803-8783-6e31dcb9e8ff",
   "metadata": {},
   "source": [
    "上で作った`data_append_train`関数を使って、学習データ`sample_train`をSamplerに入れるパラメーター`parameter_train`として準備します。"
   ]
  },
  {
   "cell_type": "code",
   "execution_count": null,
   "id": "19e95e5b-ce3b-4365-85e1-7a2f81703cb9",
   "metadata": {},
   "outputs": [],
   "source": [
    "# 学習データをパラメーターにします\n",
    "parameter_train = data_append_train(n, sample_train, sample_train)"
   ]
  },
  {
   "cell_type": "markdown",
   "id": "5a584a60-494b-4a5b-9a87-3ada2d71b652",
   "metadata": {},
   "source": [
    "backendで実行可能な形にトランスパイルされた`isa_qc`とパラメーターリスト`parameter_train`を引数 PUB (primitive unified blocs)として入力することで、パラメーターリストの数、つまり3160回分の`isa_qc`を一度にSamplerで実行します。"
   ]
  },
  {
   "cell_type": "code",
   "execution_count": null,
   "id": "afefb7f9-a119-4539-97f9-5be57d3ef078",
   "metadata": {},
   "outputs": [],
   "source": [
    "# シミュレーターで実験\n",
    "backend = AerSimulator()\n",
    "# 回路を最適化\n",
    "pm = generate_preset_pass_manager(backend=backend, optimization_level=1)\n",
    "isa_qc = pm.run(fidelity)\n",
    "\n",
    "# Samplerで実行\n",
    "sampler = SamplerV2(backend)\n",
    "pub =  #コードを入れてください -3\n",
    "job = sampler.run([pub], shots=nshots)\n",
    "quantum_kernel = job.result()"
   ]
  },
  {
   "cell_type": "code",
   "execution_count": null,
   "id": "e123ef79-9db2-4ba9-8f8e-688a72a7ea4a",
   "metadata": {},
   "outputs": [],
   "source": [
    "K = kernel(quantum_kernel, circuit_num, n)\n",
    "# カーネル行列の表示\n",
    "fig, axs = plt.subplots(1, 1, figsize=(8, 4))\n",
    "axs.imshow(np.asmatrix(K),\n",
    "              interpolation='nearest', origin='upper', cmap='Blues')\n",
    "axs.set_title(\"training kernel matrix\")"
   ]
  },
  {
   "cell_type": "markdown",
   "id": "a6171e4d",
   "metadata": {},
   "source": [
    "古典SVM分類器`scikit-learn`の`SVC`アルゴリズムを使って学習し、テストデータで学習率を見てみます。"
   ]
  },
  {
   "cell_type": "code",
   "execution_count": null,
   "id": "fe457bcf",
   "metadata": {},
   "outputs": [],
   "source": [
    "svc_f = SVC(kernel='precomputed') \n",
    "# SVM で学習します\n",
    "svc_f.fit(K, labels_train)\n",
    "\n",
    "# 学習データの学習率を見てみます\n",
    "y_predict = svc_f.predict(K)\n",
    "print('accuracy (sim):', sum(y_predict == labels_train)/len(labels_train))"
   ]
  },
  {
   "cell_type": "markdown",
   "id": "615bd674-4278-49c0-9606-71cc8c85fa36",
   "metadata": {},
   "source": [
    "ここまでで、量子分類機の作成が完了しました。次に、テストデータを使って、作った量子分類機の精度を確認してみます。"
   ]
  },
  {
   "cell_type": "code",
   "execution_count": null,
   "id": "c27668fe",
   "metadata": {},
   "outputs": [],
   "source": [
    "# 計算すべきカーネル行列の要素数の計算\n",
    "n1 = test_size #テストデータの数\n",
    "n2 = train_size #学習データの数\n",
    "circuit_num_test = n1 * n2\n",
    "print(circuit_num_test)"
   ]
  },
  {
   "cell_type": "markdown",
   "id": "2b195089-973e-40af-9736-daeb79495e1e",
   "metadata": {},
   "source": [
    "上で作った`data_append_test`関数を使って、テストデータ`sample_test`と学習データ`sample_train`とをSamplerに入れるパラメーター`parameter_test`として準備します。"
   ]
  },
  {
   "cell_type": "code",
   "execution_count": null,
   "id": "9742654c-a7f0-4574-95b0-9455bc7f8a18",
   "metadata": {},
   "outputs": [],
   "source": [
    "# テストデータをパラメーターにします\n",
    "parameter_test = data_append_test(n1, n2, sample_test, sample_train)"
   ]
  },
  {
   "cell_type": "markdown",
   "id": "fa756a67-ffeb-441a-b13f-c1b0ccdf06bf",
   "metadata": {},
   "source": [
    "backendで実行可能な形にトランスパイルされた`isa_qc`とパラメーターリスト`parameter_test`を引数 PUB (primitive unified blocs)として入力することで、パラメーターリストの数、つまり800回分の`isa_qc`を一度にSamplerで実行します。"
   ]
  },
  {
   "cell_type": "code",
   "execution_count": null,
   "id": "550160fe-045f-4f24-ab42-7c4cd3f2ee35",
   "metadata": {},
   "outputs": [],
   "source": [
    "# シミュレーターで実験\n",
    "backend = AerSimulator()\n",
    "# 回路を最適化\n",
    "pm = generate_preset_pass_manager(backend=backend, optimization_level=1)\n",
    "isa_qc = pm.run(fidelity)\n",
    "\n",
    "# Samplerで実行\n",
    "sampler = SamplerV2(backend)\n",
    "pub =  #(コードを入れてください -4)\n",
    "job = sampler.run([pub], shots=nshots)\n",
    "quantum_kernel_test = job.result()"
   ]
  },
  {
   "cell_type": "code",
   "execution_count": null,
   "id": "07699800-9703-4eb6-b3e8-008abf78d29f",
   "metadata": {},
   "outputs": [],
   "source": [
    "K_test = kernel_test(quantum_kernel_test, circuit_num_test, n1, n2)\n",
    "\n",
    "# カーネル行列の表示\n",
    "fig, axs = plt.subplots(1, 1, figsize=(4, 2))\n",
    "axs.imshow(np.asmatrix(K_test),\n",
    "              interpolation='nearest', origin='upper', cmap='Reds')\n",
    "axs.set_title(\"testing kernel matrix\")"
   ]
  },
  {
   "cell_type": "markdown",
   "id": "8471ebe9-d2da-48da-a959-d4ce09f279c8",
   "metadata": {},
   "source": [
    "作った量子分類器`svc_f`と`K_test`をテストデータの精度を確認します。"
   ]
  },
  {
   "cell_type": "code",
   "execution_count": null,
   "id": "3dacba75-73e1-4c81-8079-0a2687aa2468",
   "metadata": {},
   "outputs": [],
   "source": [
    "y_predict = svc_f.predict(K_test)\n",
    "print(y_predict, labels_test)"
   ]
  },
  {
   "cell_type": "code",
   "execution_count": null,
   "id": "e07579bf-c0fb-491f-ba28-173f576e4913",
   "metadata": {},
   "outputs": [],
   "source": [
    "print('accuracy (sim):', sum(y_predict == labels_test)/len(labels_test))"
   ]
  },
  {
   "cell_type": "markdown",
   "id": "44908aa1",
   "metadata": {},
   "source": [
    "## 時間の余った方向け\n",
    "\n",
    "データセットunknown_dataが プルオーバー（ラベル2）、またはドレス（ラベル3）、どちらのデータセットであるかを学習した量子カーネル行列を使って、SVMで判別してください。データunknown_dataは、10個の同じラベルのデータセットを次元削除、正規化、スケーリングしたものです。"
   ]
  },
  {
   "cell_type": "code",
   "execution_count": null,
   "id": "2e7b7afd",
   "metadata": {},
   "outputs": [],
   "source": [
    "unknown_data =[[-0.13116065, -0.06375504, -0.13685728,  0.84755115],\n",
    "                [-0.37941815, -0.76067967, -0.22019793,  0.17362356],\n",
    "               [-0.32055824, -0.32319408, -0.36608317,  0.68697767],\n",
    "               [ 0.31559114, -0.22212598, -0.01367073,  0.26984296],\n",
    "               [ 0.61950235,  0.11437916, -0.71187256, -0.20481759],\n",
    "               [ 0.81223033,  0.16992666,  0.0184564,   0.03393165],\n",
    "               [ 0.84295123,  0.07871908, -0.73484068,  0.05869072],\n",
    "               [-0.32055824, -0.32319408, -0.36608317,  0.68697767],\n",
    "               [ 0.31559114, -0.22212598, -0.01367073,  0.26984296],\n",
    "               [ 0.61950235,  0.11437916, -0.71187256, -0.20481759]]"
   ]
  },
  {
   "cell_type": "code",
   "execution_count": null,
   "id": "5d07b95d",
   "metadata": {},
   "outputs": [],
   "source": [
    "# 学習データとunknown_dataデータとのカーネル行列(80x10)を計算します\n",
    "# データをパラメーターにします\n",
    "\n"
   ]
  },
  {
   "cell_type": "code",
   "execution_count": null,
   "id": "fd44df34-b45a-476a-82a3-8a36eaaf6cc7",
   "metadata": {},
   "outputs": [],
   "source": [
    "# シミュレーターで実験\n",
    "\n",
    "# 回路を最適化\n",
    "\n",
    "\n",
    "\n",
    "# Samplerで実行\n",
    "\n",
    "\n",
    "\n"
   ]
  },
  {
   "cell_type": "code",
   "execution_count": null,
   "id": "e465ef0e-018e-455f-9ff3-e001512ab9fa",
   "metadata": {},
   "outputs": [],
   "source": [
    "\n",
    "\n",
    "\n"
   ]
  },
  {
   "cell_type": "code",
   "execution_count": null,
   "id": "f460d724-f98f-4bfb-85d8-108193692090",
   "metadata": {},
   "outputs": [],
   "source": [
    "# unknown_dataデータのラベルを予測します\n",
    "\n",
    "\n"
   ]
  },
  {
   "cell_type": "code",
   "execution_count": 1,
   "id": "f994d1f1",
   "metadata": {},
   "outputs": [
    {
     "data": {
      "text/plain": [
       "'1.4.1'"
      ]
     },
     "execution_count": 1,
     "metadata": {},
     "output_type": "execute_result"
    }
   ],
   "source": [
    "import qiskit\n",
    "qiskit.__version__"
   ]
  }
 ],
 "metadata": {
  "kernelspec": {
   "display_name": "Python 3 (ipykernel)",
   "language": "python",
   "name": "python3"
  },
  "language_info": {
   "codemirror_mode": {
    "name": "ipython",
    "version": 3
   },
   "file_extension": ".py",
   "mimetype": "text/x-python",
   "name": "python",
   "nbconvert_exporter": "python",
   "pygments_lexer": "ipython3",
   "version": "3.12.3"
  }
 },
 "nbformat": 4,
 "nbformat_minor": 5
}
