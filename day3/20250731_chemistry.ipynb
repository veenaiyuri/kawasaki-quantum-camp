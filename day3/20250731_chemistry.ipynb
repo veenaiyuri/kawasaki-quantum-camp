{
 "cells": [
  {
   "attachments": {},
   "cell_type": "markdown",
   "id": "499c7be7-d78d-4493-b8b2-5cb18d6b5b6b",
   "metadata": {},
   "source": [
    "Kawasaki Quantum Summer Camp 2025\n",
    "\n",
    "# 量子化学シミュレーション：サンプルベースの量子対角化\n",
    "\n",
    "Kifumi Numata, IBM Quantum (Jul 31, 2025)"
   ]
  },
  {
   "cell_type": "code",
   "execution_count": null,
   "id": "f28f38f6-f7c0-4465-8dfe-5d3df16e2a0b",
   "metadata": {},
   "outputs": [],
   "source": [
    "# Import common packages first\n",
    "import numpy as np\n",
    "from math import comb\n",
    "import warnings\n",
    "import pyscf\n",
    "import matplotlib.pyplot as plt\n",
    "import pickle\n",
    "from functools import partial\n",
    "\n",
    "# Import qiskit classes\n",
    "from qiskit import QuantumCircuit, QuantumRegister\n",
    "from qiskit.transpiler.preset_passmanagers import generate_preset_pass_manager\n",
    "from qiskit.visualization import plot_gate_map\n",
    "from qiskit_addon_sqd.fermion import SCIResult, diagonalize_fermionic_hamiltonian, solve_sci_batch\n",
    "\n",
    "# Import qiskit ecosystems\n",
    "import ffsim\n",
    "from qiskit_ibm_runtime import QiskitRuntimeService, SamplerV2 as Sampler\n",
    "from qiskit_ibm_runtime import SamplerOptions"
   ]
  },
  {
   "cell_type": "code",
   "execution_count": null,
   "id": "ed556c08-628c-4894-ada3-f38c199e934e",
   "metadata": {},
   "outputs": [],
   "source": [
    "import qiskit\n",
    "print(f\"Qiskit version: {qiskit.__version__}\")"
   ]
  },
  {
   "cell_type": "markdown",
   "id": "d946d0a3-461b-467d-b67c-41b79f687b43",
   "metadata": {},
   "source": [
    "**目次**\n",
    "\n",
    "- 1: チュートリアル -  $N_2$ 分子の基底エネルギーを近似する手法を学ぶ\n",
    "- 2: 演習 - パラメーターを調整して、基底エネルギーの改善をする"
   ]
  },
  {
   "cell_type": "markdown",
   "id": "9e40af77-7f0f-4dd6-ab0a-420cf396050e",
   "metadata": {},
   "source": [
    "# 1: チュートリアル"
   ]
  },
  {
   "cell_type": "markdown",
   "id": "afeb054c",
   "metadata": {},
   "source": [
    "## Step 1. 問題を量子回路にマッピングする\n",
    "\n",
    "まず、$N_2$ 分子とそのプロパティを指定します。次に、量子回路を作成し、量子コンピューターから基底状態エネルギー推定用のサンプルを生成します。"
   ]
  },
  {
   "cell_type": "markdown",
   "id": "3fcd4a68-7040-4b30-8253-d5c05042fc16",
   "metadata": {},
   "source": [
    "<div class=\"alert alert-block alert-info\">\n",
    "    \n",
    "⚠️ **Note:** 回路データは事前に計算されてこのノートブックで提供されているため、`pyscf` の実行の必要はありません。下のセルを実行して、**「最適化された量子回路をロードする」** セクションに直接進むことができます。\n",
    "</div>\n"
   ]
  },
  {
   "cell_type": "code",
   "execution_count": null,
   "id": "677f54ac-b4ed-47e3-b5ba-5366d3a520f9",
   "metadata": {},
   "outputs": [],
   "source": [
    "import warnings, pickle\n",
    "import numpy as np\n",
    "warnings.filterwarnings(\"ignore\")\n",
    "\n",
    "# from pyscf import ao2mo, tools\n",
    "\n",
    "# 分子特性の指定\n",
    "num_orbitals = 16\n",
    "num_elec_a = num_elec_b = 5\n",
    "open_shell = False\n",
    "spin_sq = 0\n",
    "nelec = (num_elec_a, num_elec_b)\n",
    "\n",
    "# pyscfを使用する場合は、ディスクから分子を読み込む\n",
    "# mf_as = tools.fcidump.to_scf(\"utils/n2_fci.txt\")\n",
    "# hcore = mf_as.get_hcore()\n",
    "# eri = ao2mo.restore(1, mf_as._eri, num_orbitals)\n",
    "# nuclear_repulsion_energy = mf_as.mol.energy_nuc()\n",
    "\n",
    "# pyscfを使用しない場合は、値をロードする\n",
    "hcore = np.load(\"utils/hcore.npy\") # 1電子ハミルトニアン\n",
    "eri = np.load(\"utils/eri.npy\") # 2電子ハミルトニアン\n",
    "with open(\"utils/nuclear_repulsion_energy.pkl\", \"rb\") as f:\n",
    "    nuclear_repulsion_energy = pickle.load(f) # 原子核エネルギー"
   ]
  },
  {
   "attachments": {},
   "cell_type": "markdown",
   "id": "f4d882fa",
   "metadata": {},
   "source": [
    "## Step 2. 最適化されたアンサッツ (仮の量子回路) をロードする\n",
    "\n",
    "このチュートリアルでは、事前に準備された **最適化されたアンサッツ (仮の量子回路)ファイル** から始めます。 アンサッツは、$N_2$ 分子のハミルトニアンをもとに近似的に作成されています。またこのアンサッツは、IBM のヘビーヘックストポロジーを念頭に置いて作成されており、量子ビットの相互作用に **ジグザグパターン** を採用しています。 このパターンでは、同じ電子スピンの軌道がヘビーヘックスの格子全体にジグザグ線で接続されています (下図参照)。\n",
    "\n",
    "![lucj_ansatz](https://quantum.cloud.ibm.com/assets-docs-learning/_next/image?url=%2Fdocs%2Fimages%2Ftutorials%2Fimproving-energy-estimation-of-a-fermionic-hamiltonian-with-sqd%2F7e0ee7e1-2d24-417f-ac59-25c58db79aa9.avif&w=1920&q=75)"
   ]
  },
  {
   "cell_type": "code",
   "execution_count": null,
   "id": "dbecf963-3a42-45fe-982a-7a1ad769c6d7",
   "metadata": {},
   "outputs": [],
   "source": [
    "from qiskit import qpy\n",
    " \n",
    "with open('utils/N2_UCJ_Transpiled.qpy', 'rb') as fd:\n",
    "    isa_circuit = qpy.load(fd)[0]"
   ]
  },
  {
   "cell_type": "markdown",
   "id": "0cc1edef",
   "metadata": {},
   "source": [
    "## Step 3. 実験を実行する"
   ]
  },
  {
   "cell_type": "markdown",
   "id": "cbf7ef9f",
   "metadata": {},
   "source": [
    "ハードウェア実行用に回路を最適化したら、ターゲット ハードウェア上で回路を実行し、基底状態のエネルギー推定のためのサンプルを収集する準備が整います。\n",
    "\n",
    "<div class=\"alert alert-block alert-warning\">\n",
    "    \n",
    "⚠️ **Note:** QPU 上で回路を実行するためのコードはコメントアウトして、ユーザーの参照用に残してあります。このウォークスルーでは、実際のハードウェア上で実行するのではなく、以前に ``ibm_sherbrooke`` から取得した 10 万個のサンプルを読み込みます。\n",
    "\n",
    "</div>\n"
   ]
  },
  {
   "cell_type": "code",
   "execution_count": null,
   "id": "3da09100",
   "metadata": {},
   "outputs": [],
   "source": [
    "import numpy as np\n",
    "\n",
    "# from qiskit_ibm_runtime import SamplerV2 as Sampler\n",
    "\n",
    "# sampler = Sampler(mode=backend)\n",
    "# job = sampler.run([isa_circuit], shots=100_000)\n",
    "# primitive_result = job.result()\n",
    "# pub_result = primitive_result[0]\n",
    "# counts = pub_result.data.meas.get_counts()\n",
    "\n",
    "bit_array = np.load('utils/N2_device_bitarray.npy', allow_pickle=True).item()"
   ]
  },
  {
   "cell_type": "markdown",
   "id": "6df05b6e",
   "metadata": {},
   "source": [
    "## Step 4. SQD を使用した結果の後処理"
   ]
  },
  {
   "cell_type": "markdown",
   "id": "851bc98e-9c08-4e78-9472-36301abc11d8",
   "metadata": {},
   "source": [
    "このセクションでは、アンサッツから生成された量子サンプルを後処理して、分子の基底状態エネルギーを推定します。ここでは、データサンプルを修正することを繰り返し、精度を向上させます。\n",
    "\n",
    "この手法ではユーザーが制御できる重要なオプションがいくつかあります。\n",
    "\n",
    "* `max_iterations`: ループの反復回数。\n",
    "* `num_batches`: 取り出すバッチの数 \n",
    "* `samples_per_batch`: 各バッチに含めるデータ数\n",
    "* `max_cycles`: 固有状態ソルバーの最大サイクル数\n"
   ]
  },
  {
   "cell_type": "code",
   "execution_count": null,
   "id": "50a9b354-8b4f-4cf6-a056-4a199ceee1de",
   "metadata": {},
   "outputs": [],
   "source": [
    "%%time\n",
    "# SQDのオプション\n",
    "energy_tol = 1e-3  \n",
    "occupancies_tol = 1e-3 \n",
    "max_iterations = 5\n",
    "\n",
    "# 固有状態ソルバーのオプション\n",
    "num_batches = 5\n",
    "samples_per_batch = 50\n",
    "symmetrize_spin = True \n",
    "carryover_threshold = 1e-4 \n",
    "max_cycle = 200\n",
    "rng = np.random.default_rng(24)\n",
    "\n",
    "# 中間結果を保存するためのリスト\n",
    "result_history = [] \n",
    "\n",
    "def callback(results: list[SCIResult]): \n",
    "    result_history.append(results)\n",
    "    iteration = len(result_history)\n",
    "    print(f\"Iteration {iteration}\")\n",
    "    for i, result in enumerate(results):\n",
    "        print(f\"\\tSubsample {i}\")\n",
    "        print(f\"\\t\\tEnergy: {result.energy + nuclear_repulsion_energy}\")\n",
    "        print(f\"\\t\\tSubspace dimension: {np.prod(result.sci_state.amplitudes.shape)}\")\n",
    "\n",
    "result = diagonalize_fermionic_hamiltonian(\n",
    "    hcore,\n",
    "    eri,\n",
    "    bit_array,\n",
    "    samples_per_batch=samples_per_batch,\n",
    "    norb=num_orbitals,\n",
    "    nelec=nelec,\n",
    "    num_batches=num_batches,\n",
    "    energy_tol=energy_tol,\n",
    "    occupancies_tol=occupancies_tol,\n",
    "    max_iterations=max_iterations,\n",
    "    symmetrize_spin=symmetrize_spin,\n",
    "    carryover_threshold=carryover_threshold,\n",
    "    callback=callback,\n",
    "    seed=rng,\n",
    ")"
   ]
  },
  {
   "cell_type": "markdown",
   "id": "9d78906b-4759-4506-9c69-85d4e67766b3",
   "metadata": {},
   "source": [
    "### 結果を視覚化する\n"
   ]
  },
  {
   "cell_type": "code",
   "execution_count": null,
   "id": "caffd888-e89c-4aa9-8bae-4d1bb723b35e",
   "metadata": {},
   "outputs": [],
   "source": [
    "def plot_energy_and_occupancy(result_history):\n",
    "\n",
    "    # Data for energies plot\n",
    "    exact_energy = -109.10288938\n",
    "    x1 = range(len(result_history))\n",
    "    min_e = [\n",
    "        min(result, key=lambda res: res.energy).energy + nuclear_repulsion_energy\n",
    "        for result in result_history\n",
    "    ]\n",
    "    e_diff = [abs(e - exact_energy) for e in min_e]\n",
    "    yt1 = [1.0, 1e-1, 1e-2, 1e-3, 1e-4]\n",
    "    \n",
    "    # Chemical accuracy (+/- 1 milli-Hartree)\n",
    "    chem_accuracy = 0.001\n",
    "    \n",
    "    # Data for avg spatial orbital occupancy\n",
    "    y2 = np.sum(result.orbital_occupancies, axis=0)\n",
    "    x2 = range(len(y2))\n",
    "    \n",
    "    fig, axs = plt.subplots(1, 2, figsize=(12, 6))\n",
    "    \n",
    "    # Plot energies\n",
    "    axs[0].plot(x1, e_diff, label=\"energy error\", marker=\"o\")\n",
    "    axs[0].set_xticks(x1)\n",
    "    axs[0].set_xticklabels(x1)\n",
    "    axs[0].set_yticks(yt1)\n",
    "    axs[0].set_yticklabels(yt1)\n",
    "    axs[0].set_yscale(\"log\")\n",
    "    axs[0].set_ylim(1e-4)\n",
    "    axs[0].axhline(y=chem_accuracy, color=\"#BF5700\", linestyle=\"--\", label=\"chemical accuracy\")\n",
    "    axs[0].set_title(\"Approximated Ground State Energy Error vs SQD Iterations\")\n",
    "    axs[0].set_xlabel(\"Iteration Index\", fontdict={\"fontsize\": 12})\n",
    "    axs[0].set_ylabel(\"Energy Error (Ha)\", fontdict={\"fontsize\": 12})\n",
    "    axs[0].legend()\n",
    "    \n",
    "    # Plot orbital occupancy\n",
    "    axs[1].bar(x2, y2, width=0.8)\n",
    "    axs[1].set_xticks(x2)\n",
    "    axs[1].set_xticklabels(x2)\n",
    "    axs[1].set_title(\"Avg Occupancy per Spatial Orbital\")\n",
    "    axs[1].set_xlabel(\"Orbital Index\", fontdict={\"fontsize\": 12})\n",
    "    axs[1].set_ylabel(\"Avg Occupancy\", fontdict={\"fontsize\": 12})\n",
    "    \n",
    "    print(f\"Exact energy: {exact_energy:.5f} Ha\")\n",
    "    print(f\"SQD energy: {min_e[-1]:.5f} Ha\")\n",
    "    print(f\"Absolute error: {e_diff[-1]:.5f} Ha\")\n",
    "    plt.tight_layout()\n",
    "    plt.show()"
   ]
  },
  {
   "cell_type": "code",
   "execution_count": null,
   "id": "b6c6eca8-1ba9-47c8-90d5-1a465de2fd69",
   "metadata": {
    "scrolled": true
   },
   "outputs": [],
   "source": [
    "plot_energy_and_occupancy(result_history)"
   ]
  },
  {
   "cell_type": "markdown",
   "id": "afc22db7-cb0c-4a77-8aed-464cde57d5d6",
   "metadata": {},
   "source": [
    "最初のプロットは、私たちの近似値が化学的精度からどの程度離れているかを示しています。（一般的には ``1 kcal/mol`` $\\approx$ ``1.6 mH``).\n",
    "\n",
    "2 番目のプロットは、最終反復後の各空間軌道の平均占有率を示しています。私たちのソリューションでは、スピンアップ電子とスピンダウン電子の両方が最初の 5 つの軌道を高い確率で占有していることがわかります。"
   ]
  },
  {
   "cell_type": "markdown",
   "id": "c5503a47-f726-43c7-a690-1bcdd53805bf",
   "metadata": {},
   "source": [
    "# 2. 演習 \n",
    "\n",
    "エネルギー推定の精度を向上させるという課題に取り組みます。Part 1  の初期設定ではベースラインの近似値を提供しましたが、ここでは、さまざまなパラメータの選択がパフォーマンスにどのように影響するかを探ります。"
   ]
  },
  {
   "cell_type": "markdown",
   "id": "7860032a-d532-4958-8304-0cdf83615f32",
   "metadata": {},
   "source": [
    "<a id=\"exercise_1\"></a>\n",
    "<div class=\"alert alert-block alert-success\">\n",
    "    \n",
    "<b>基底状態エネルギー推定の改良</b> \n",
    "\n",
    "チュートリアルの例では、小さなサブスペースを使用し、反復ごとにバッチ数を 5 に制限して、分子の基底状態エネルギーの初期近似値を取得しました。ただし、精度を向上させる余地は大きくあります。**Part 2**のタスクは、次の2つの主要なパラメーターを試して、エネルギー推定値を向上させることです。\n",
    "\n",
    "- **サブスペース サイズ** (`samples_per_batch`): バッチあたりのサンプル数を調整して、ハミルトニアンの射影と対角化に使用するサブスペース サイズを定義します。この値を大きくすると精度が向上しますが、計算負荷が増加する可能性があります。\n",
    "- **バッチ数** (`num_batches`): バッチ数を変更して、各反復での計算効率と結果の精度のバランスを見つけます。\n",
    "\n",
    "これらのパラメータを戦略的に使用して、推定された基底状態エネルギーを実際の値にできるだけ近づけることを目指します。ノイズやハードウェア制約の影響を考慮しながら、さまざまな組み合わせをテストしてエラーを最小限に抑えます。\n",
    "\n",
    "頑張ってください。真の基底状態エネルギーにどれだけ近づけるか見てみましょう。\n",
    "\n",
    "\n",
    "</div>"
   ]
  },
  {
   "cell_type": "markdown",
   "id": "cc2ceb20-5ad5-45c4-a20a-61cf7295e8da",
   "metadata": {},
   "source": [
    "まず、上記と同じループを実行し、``num_batches`` および ``samples_per_batch`` 引数を入力として受け取る関数を定義します。"
   ]
  },
  {
   "cell_type": "code",
   "execution_count": null,
   "id": "7f18201a-7f34-4a4c-b8ad-cce17743b757",
   "metadata": {},
   "outputs": [],
   "source": [
    "def sqd_configuration_recovery(num_batches: int, samples_per_batch: int) -> float:\n",
    "    # SQDのオプション\n",
    "    energy_tol = 1e-3  \n",
    "    occupancies_tol = 1e-3 \n",
    "    max_iterations = 5\n",
    "    \n",
    "    # 固有状態ソルバーのオプション\n",
    "    symmetrize_spin = True \n",
    "    carryover_threshold = 1e-4 \n",
    "    max_cycle = 200\n",
    "    rng = np.random.default_rng(24)\n",
    "    \n",
    "    result = diagonalize_fermionic_hamiltonian(\n",
    "        hcore,\n",
    "        eri,\n",
    "        bit_array,\n",
    "        samples_per_batch=samples_per_batch,\n",
    "        norb=num_orbitals,\n",
    "        nelec=nelec,\n",
    "        num_batches=num_batches,\n",
    "        energy_tol=energy_tol,\n",
    "        occupancies_tol=occupancies_tol,\n",
    "        max_iterations=max_iterations,\n",
    "        symmetrize_spin=symmetrize_spin,\n",
    "        carryover_threshold=carryover_threshold,\n",
    "        callback=callback,\n",
    "        seed=rng,\n",
    "    )\n",
    "    return result_history"
   ]
  },
  {
   "cell_type": "code",
   "execution_count": null,
   "id": "3c501fcb-1d12-4982-98cb-8c55d3cb2418",
   "metadata": {},
   "outputs": [],
   "source": [
    "### この下にコードを記入してください ###\n",
    "\n",
    "num_batches = \n",
    "samples_per_batch = \n",
    "\n",
    "### この行以降のコードは変更しないでください ###"
   ]
  },
  {
   "cell_type": "code",
   "execution_count": null,
   "id": "e3892e7f-be93-4a6a-906e-87169cc3f438",
   "metadata": {},
   "outputs": [],
   "source": [
    "%%time\n",
    "result_history = [] \n",
    "energy_hist = sqd_configuration_recovery(num_batches, samples_per_batch)"
   ]
  },
  {
   "cell_type": "code",
   "execution_count": null,
   "id": "8983d7bd-41fb-4345-8ae7-ea6fe69a7ab5",
   "metadata": {},
   "outputs": [],
   "source": [
    "plot_energy_and_occupancy(result_history)"
   ]
  },
  {
   "cell_type": "markdown",
   "id": "f503ac76-7f3a-42a0-b50e-14fa8d041771",
   "metadata": {},
   "source": [
    "1章のチュートリアルの結果は以下でした。\n",
    "\n",
    "    Exact energy: -109.10289 Ha\n",
    "    SQD energy: -109.02333 Ha\n",
    "    Absolute error: 0.07956 Ha\n",
    "\n",
    "あなたの演習の結果は、より良くなりましたか？"
   ]
  }
 ],
 "metadata": {
  "kernelspec": {
   "display_name": "Python 3 (ipykernel)",
   "language": "python",
   "name": "python3"
  },
  "language_info": {
   "codemirror_mode": {
    "name": "ipython",
    "version": 3
   },
   "file_extension": ".py",
   "mimetype": "text/x-python",
   "name": "python",
   "nbconvert_exporter": "python",
   "pygments_lexer": "ipython3",
   "version": "3.12.3"
  }
 },
 "nbformat": 4,
 "nbformat_minor": 5
}
