{
 "cells": [
  {
   "cell_type": "markdown",
   "id": "c32eb08b",
   "metadata": {},
   "source": [
    "Kawasaki Quantum Summer Camp 2025\n",
    "\n",
    "# 量子機械学習\n",
    "\n",
    "\n",
    "Kifumi Numata, IBM Quantum (Jul 31, 2025)"
   ]
  },
  {
   "cell_type": "code",
   "execution_count": null,
   "id": "c6ede8c4",
   "metadata": {},
   "outputs": [],
   "source": [
    "import numpy as np\n",
    "\n",
    "# 描画のため\n",
    "import matplotlib.pyplot as plt\n",
    "\n",
    "# Scikit-learnのインポート(Python用の機械学習ライブラリー)\n",
    "from sklearn import datasets\n",
    "from sklearn.model_selection import train_test_split # データ分割\n",
    "from sklearn.svm import SVC # SVM Classification(SVM分類)\n",
    "from sklearn.decomposition import PCA # Principal component analysis(主成分分析)\n",
    "from sklearn.preprocessing import StandardScaler, MinMaxScaler # 標準化、正規化のスケール変換\n",
    "\n",
    "# Qiskitのインポート\n",
    "from qiskit_aer import AerSimulator\n",
    "from qiskit.circuit import QuantumCircuit, Parameter\n",
    "from qiskit.circuit.library import zz_feature_map\n",
    "from qiskit_ibm_runtime import QiskitRuntimeService, SamplerV2 as Sampler\n",
    "from qiskit.circuit.library import unitary_overlap\n",
    "from qiskit.transpiler.preset_passmanagers import generate_preset_pass_manager"
   ]
  },
  {
   "cell_type": "markdown",
   "id": "bb0ba9c5",
   "metadata": {},
   "source": [
    "## データを用意\n",
    "\n",
    "ここでは，手書き数字画像のデータセット(MNISTデータセット)から0と1のサブセットを扱います。"
   ]
  },
  {
   "cell_type": "code",
   "execution_count": null,
   "id": "fd58dabf",
   "metadata": {},
   "outputs": [],
   "source": [
    "# 数字データセットから2クラスのデータ(0と1)を読み込み\n",
    "digits = datasets.load_digits(n_class=2)   \n",
    "\n",
    "# 読み込んだ画像の最初の100枚をプロット\n",
    "fig, axes = plt.subplots(10, 10, figsize=(15, 15), subplot_kw={'xticks':[], 'yticks':[]}, gridspec_kw=dict(hspace=0.5, wspace=0.5))\n",
    "for i, ax in enumerate(axes.flat):\n",
    "    ax.set_axis_off()\n",
    "    ax.imshow(digits.images[i], cmap=plt.cm.gray_r, interpolation='nearest')\n",
    "    ax.set_title(digits.target[i])"
   ]
  },
  {
   "cell_type": "code",
   "execution_count": null,
   "id": "7f9be323",
   "metadata": {},
   "outputs": [],
   "source": [
    "print(digits.images[0])"
   ]
  },
  {
   "cell_type": "markdown",
   "id": "30e94e91",
   "metadata": {},
   "source": [
    "このデータセットには、合計360個のデータが含まれています。各データポイントは、8×8の数字の画像で、配列になっていて、各要素は0（白）から16（黒）までの整数です。古典的な分類アルゴリズムの際と同様に、データセットを学習用（25個）とテスト用（10個）のサンプルに分割し、正規化する必要があります。このデータセットを量子分類アルゴリズムに用いるために、範囲を-1から1の間にスケーリングし、次元を使用する量子ビット数（今回は4）に縮小します。"
   ]
  },
  {
   "cell_type": "code",
   "execution_count": null,
   "id": "4f8a7be2",
   "metadata": {},
   "outputs": [],
   "source": [
    "# データセットの分割\n",
    "sample_train, sample_test, labels_train, labels_test = train_test_split(\n",
    "     digits.data, digits.target, test_size=0.4, random_state=22)\n",
    "\n",
    "# 次元削除\n",
    "n_dim = 4\n",
    "pca = PCA(n_components=n_dim).fit(sample_train)\n",
    "sample_train = pca.transform(sample_train)\n",
    "sample_test = pca.transform(sample_test)\n",
    "\n",
    "# 正規化\n",
    "std_scale = StandardScaler().fit(sample_train)\n",
    "sample_train = std_scale.transform(sample_train)\n",
    "sample_test = std_scale.transform(sample_test)\n",
    "\n",
    "# スケーリング\n",
    "samples = np.append(sample_train, sample_test, axis=0)\n",
    "minmax_scale = MinMaxScaler((-1, 1)).fit(samples)\n",
    "sample_train = minmax_scale.transform(sample_train)\n",
    "sample_test = minmax_scale.transform(sample_test)\n",
    "\n",
    "# 学習用25個とテスト用10個を選択\n",
    "train_size = 25\n",
    "sample_train = sample_train[:train_size]\n",
    "labels_train = labels_train[:train_size]\n",
    "\n",
    "test_size = 10\n",
    "sample_test = sample_test[:test_size]\n",
    "labels_test = labels_test[:test_size]"
   ]
  },
  {
   "cell_type": "code",
   "execution_count": null,
   "id": "2b5e9eb5",
   "metadata": {},
   "outputs": [],
   "source": [
    "# 一つ目のデータをそれぞれ表示\n",
    "print(sample_train[0], labels_train[0])\n",
    "print(sample_test[0], labels_test[0])"
   ]
  },
  {
   "cell_type": "code",
   "execution_count": null,
   "id": "2c4596bc",
   "metadata": {},
   "outputs": [],
   "source": [
    "# 学習用データのラベルを表示\n",
    "print(labels_train)"
   ]
  },
  {
   "cell_type": "markdown",
   "id": "8a907673",
   "metadata": {},
   "source": [
    "## データ符号化(エンコード)\n",
    "\n",
    "この古典データを、量子特徴量マップ(`zz_feature_map`)を用いて量子状態空間にエンコードしていきます。"
   ]
  },
  {
   "cell_type": "code",
   "execution_count": null,
   "id": "b1a9014c-6ab0-45b8-a746-690c3186507c",
   "metadata": {},
   "outputs": [],
   "source": [
    "# 4特徴量、深さ(繰り返し数)1のZZFeatureMap\n",
    "zz_map = zz_feature_map(feature_dimension=4, entanglement='linear', reps=1, insert_barriers=True)\n",
    "zz_map.draw('mpl')"
   ]
  },
  {
   "cell_type": "markdown",
   "id": "8e53d756",
   "metadata": {},
   "source": [
    "### 量子カーネルの計算\n",
    "\n",
    "`zz_feature_map`を使って、学習データの0個目と1個目のデータについて、量子カーネルを計算する量子回路を作成し、実際に計算してみます。この値は、二つの量子状態のFidelity(忠実度)ともいいます。"
   ]
  },
  {
   "cell_type": "code",
   "execution_count": null,
   "id": "c941d90b",
   "metadata": {},
   "outputs": [],
   "source": [
    "print(sample_train[0])\n",
    "print(sample_train[1])"
   ]
  },
  {
   "cell_type": "code",
   "execution_count": null,
   "id": "82147e5b-616e-4d5d-a18b-eb930b448808",
   "metadata": {},
   "outputs": [],
   "source": [
    "zz_map = zz_feature_map(feature_dimension=4, reps=1, entanglement='linear')\n",
    "qc_1 =zz_map.assign_parameters(sample_train[0])\n",
    "qc_2 =zz_map.assign_parameters(sample_train[1])\n",
    "fidelity_circuit = qc_1.copy()\n",
    "fidelity_circuit.append(qc_2.inverse().decompose(), range(fidelity_circuit.num_qubits))\n",
    "fidelity_circuit.measure_all()\n",
    "fidelity_circuit.decompose().draw('mpl')"
   ]
  },
  {
   "cell_type": "markdown",
   "id": "8d266ee9",
   "metadata": {},
   "source": [
    "各回転ゲートのパラメーター値は少し読みにくいですが、回路が対称になっていることが分かると思います。左半分は学習データsample_train[0]が、右半分は学習データsample_train[1]がコード化されています。\n",
    "\n",
    "例として、上記の量子カーネルを測定し、ゼロ状態のカウント数の割合として、カーネル行列の要素（訓練データの0個目と1個目のデータについて）を計算します。"
   ]
  },
  {
   "cell_type": "code",
   "execution_count": null,
   "id": "82e45007-3074-4d76-8a73-7f822757b89d",
   "metadata": {},
   "outputs": [],
   "source": [
    "# シミュレーターで実験\n",
    "backend = AerSimulator()\n",
    "# 回路を最適化\n",
    "pm = generate_preset_pass_manager(backend=backend, optimization_level=1)\n",
    "isa_qc = pm.run(fidelity_circuit)"
   ]
  },
  {
   "cell_type": "code",
   "execution_count": null,
   "id": "102cbe2a-da3d-49af-b06f-75b76b38f474",
   "metadata": {},
   "outputs": [],
   "source": [
    "# Samplerで実行\n",
    "num_shots = 4096\n",
    "sampler = Sampler(backend)\n",
    "job = sampler.run([isa_qc], shots=num_shots)\n",
    "result = job.result()\n",
    "\n",
    "#  測定された回数を表示\n",
    "counts = result[0].data.meas.get_counts()\n",
    "print(counts)"
   ]
  },
  {
   "cell_type": "code",
   "execution_count": null,
   "id": "4ee6cc06-aeac-46e3-ab05-cf76a3f9ab59",
   "metadata": {},
   "outputs": [],
   "source": [
    "counts.get('0000')/nshots"
   ]
  },
  {
   "cell_type": "markdown",
   "id": "b564a780",
   "metadata": {},
   "source": [
    "### 量子カーネル計算\n",
    "\n",
    "このプロセスを，学習データサンプルのペアごとに繰り返して学習カーネル行列を埋めていきます。\n",
    "先ほどど同じ `zz_feature_map` を用いて量子回路を作り、また、今回は、 `unitary_overlap`を使ってカーネル行列の要素となる内積(fidelity)を計算します。"
   ]
  },
  {
   "cell_type": "code",
   "execution_count": null,
   "id": "dd111cb5-d301-4983-a933-48f2e4671e0d",
   "metadata": {},
   "outputs": [],
   "source": [
    "zz_map = zz_feature_map(feature_dimension=4, reps=1, entanglement='linear')\n",
    "fidelity = unitary_overlap(zz_map, zz_map)\n",
    "fidelity.measure_all()"
   ]
  },
  {
   "cell_type": "markdown",
   "id": "625e2cd9-a43a-482c-97df-6484bfe1af3e",
   "metadata": {},
   "source": [
    "回路の形状を見てみましょう。"
   ]
  },
  {
   "cell_type": "code",
   "execution_count": null,
   "id": "337607ac-e8cd-459a-9f3f-a82546cf6860",
   "metadata": {},
   "outputs": [],
   "source": [
    "fidelity.draw('mpl', idle_wires=False, fold=-1)"
   ]
  },
  {
   "cell_type": "markdown",
   "id": "a0879261-9e1d-4a6d-9a9b-5e291a4f1df9",
   "metadata": {},
   "source": [
    "出力を格納するために、空のカーネル行列と、空のテスト用カーネル行列を作ります。"
   ]
  },
  {
   "cell_type": "code",
   "execution_count": null,
   "id": "38db19a8-609b-4458-8c53-25eed8954c40",
   "metadata": {},
   "outputs": [],
   "source": [
    "# 空のカーネル行列\n",
    "kernel_matrix = np.full((train_size, train_size), np.nan) # 25x25の学習用カーネル行列\n",
    "test_matrix = np.full((test_size, train_size), np.nan) # 10x25のテスト用カーネル行列"
   ]
  },
  {
   "cell_type": "markdown",
   "id": "b8816006-e721-4744-8703-a0f8e62434a0",
   "metadata": {},
   "source": [
    "Overlap回路を作ります。カーネル行列は対角に対して対称なので、同じ計算は繰り返さないようにすることで、計算回数は二分の一に減らせます。また、ノイズがない場合は対角要素が1となるため、今回は対角要素を計算せず、1を代入します。(25×25×1/2-25)要素と(10×25)要素を計算するので、以下のセルは実行にすこし時間がかかるかもしれません。"
   ]
  },
  {
   "cell_type": "code",
   "execution_count": null,
   "id": "a46acd18-4e0c-4640-9056-db4e308c9a96",
   "metadata": {},
   "outputs": [],
   "source": [
    "%%time\n",
    "num_shots = 2048\n",
    "\n",
    "backend = AerSimulator()\n",
    "sampler = Sampler(mode=backend)\n",
    "\n",
    "for x1 in range(0,train_size):\n",
    "    for x2 in range(x1+1,train_size):\n",
    "        unitary1 = zz_map.assign_parameters(list(sample_train[x1]))\n",
    "        unitary2 = zz_map.assign_parameters(list(sample_train[x2]))\n",
    "\n",
    "        # Overlap回路の作成\n",
    "        overlap_circ = unitary_overlap(unitary1, unitary2)\n",
    "        overlap_circ.measure_all()\n",
    "    \n",
    "        # Qiskit sampler primitiveの実行\n",
    "        counts = (\n",
    "            sampler.run([overlap_circ], shots=num_shots).result()[0].data.meas.get_int_counts()\n",
    "        )\n",
    "\n",
    "        # |0>状態の確率をカーネル行列の要素に入れ、転置された要素にも同じ確率を入れます。\n",
    "        kernel_matrix[x1, x2] = counts.get(0, 0.0)/num_shots\n",
    "        kernel_matrix[x2, x1] = counts.get(0, 0.0)/num_shots\n",
    "    # 確率の内積なので、対角線上の要素を1で埋めます\n",
    "    kernel_matrix[x1,x1] =1    \n",
    "\n",
    "print(\"training done\")\n",
    "\n",
    "# 上記と同様のプロセスをテストデータを使って行う\n",
    "for x1 in range(0,test_size):\n",
    "    for x2 in range(0,train_size):\n",
    "        unitary1 = zz_map.assign_parameters(list(sample_test[x1]))\n",
    "        unitary2 = zz_map.assign_parameters(list(sample_train[x2]))\n",
    "\n",
    "        # Overlap回路の作成\n",
    "        overlap_circ = unitary_overlap(unitary1, unitary2)\n",
    "        overlap_circ.measure_all()\n",
    "    \n",
    "        counts = (\n",
    "            sampler.run([overlap_circ], shots=num_shots).result()[0].data.meas.get_int_counts()\n",
    "        )\n",
    "\n",
    "        test_matrix[x1, x2] = counts.get(0, 0.0)/num_shots\n",
    "\n",
    "print(\"test matrix done\")"
   ]
  },
  {
   "cell_type": "markdown",
   "id": "4cc45e19-aed8-4e2d-87fc-5f43bf739ddc",
   "metadata": {},
   "source": [
    "2つのカーネル行列を見てみましょう。"
   ]
  },
  {
   "cell_type": "code",
   "execution_count": null,
   "id": "8c10b320-40e2-4935-9bf5-9837425a4494",
   "metadata": {},
   "outputs": [],
   "source": [
    "fig, axs = plt.subplots(1, 2, figsize=(10, 5))\n",
    "axs[0].imshow(np.asmatrix(kernel_matrix),\n",
    "              interpolation='nearest', origin='upper', cmap='Blues')\n",
    "axs[0].set_title(\"kernel matrix\")\n",
    "axs[1].imshow(np.asmatrix(test_matrix),\n",
    "              interpolation='nearest', origin='upper', cmap='Reds')\n",
    "axs[1].set_title(\"test matrix\")\n",
    "plt.show()"
   ]
  },
  {
   "cell_type": "markdown",
   "id": "7ae61ff1-1613-4e2c-a4df-0381df319f6d",
   "metadata": {},
   "source": [
    "### 古典計算による学習\n",
    "\n",
    "量子カーネル法からカーネル行列と同様の形式の test_matrix が得られたので、古典の機械学習アルゴリズムを適用してテストデータの予測を行い、その精度をチェックすることができます。Scikit-Learnのサポートベクトル分類器（SVC）`sklearn.svc`を使い、事前に計算したカーネルを使うため、`kernel = precomputed` を指定します。"
   ]
  },
  {
   "cell_type": "code",
   "execution_count": null,
   "id": "f5a99875-3ee7-4f56-8c18-61e8b6a07e7f",
   "metadata": {},
   "outputs": [],
   "source": [
    "# 古典の機械学習パッケージからサポートベクトル分類器で事前に計算されたカーネル行列を使用することを指定\n",
    "qml_svc = SVC(kernel=\"precomputed\")"
   ]
  },
  {
   "cell_type": "markdown",
   "id": "fe088ebc-5783-494e-aaba-c1cabe9c6fea",
   "metadata": {},
   "source": [
    "`SVC.fit` を使って、カーネル行列と学習用ラベルを入力し、学習します。`SVC.predict` は test_matrix を使ってテストデータのラベルを予測します。`SVC.score` はテストデータをスコアリングして精度を返します。"
   ]
  },
  {
   "cell_type": "code",
   "execution_count": null,
   "id": "cba58777-a7a1-4ebf-a829-fefe1a41cda1",
   "metadata": {},
   "outputs": [],
   "source": [
    "# 事前に計算された行列と学習データのラベルを入力。古典アルゴリズムがfitを行います。\n",
    "qml_svc.fit(kernel_matrix, labels_train)\n",
    "\n",
    "# 学習データとテストデータのカーネル行列を用いてテストデータのラベルを予測します。\n",
    "label_predict = qml_svc.predict(test_matrix)\n",
    "print(label_predict, labels_test, sep=\"\\n\")\n",
    "\n",
    "# テストデータの行列とテストラベルを入力として、.scoreを使ってデータをテストします。\n",
    "qml_score_precomputed_kernel = qml_svc.score(test_matrix, labels_test)\n",
    "print(f\"Precomputed kernel classification test score: {qml_score_precomputed_kernel}\")"
   ]
  },
  {
   "cell_type": "markdown",
   "id": "1c3792eb-5a18-4aaf-93d2-73882e2fb276",
   "metadata": {},
   "source": [
    "90%の確率で学習されました。"
   ]
  },
  {
   "cell_type": "markdown",
   "id": "11bf1652",
   "metadata": {},
   "source": [
    "# 洋服画像データの分類\n"
   ]
  },
  {
   "cell_type": "markdown",
   "id": "c86b1f38",
   "metadata": {},
   "source": [
    "ここで扱うデータは，MNISTデータセットの亜種である[Fashion-MNIST](https://github.com/zalandoresearch/fashion-mnist/blob/master/README.ja.md)という洋服画像データセットのサブセットです。"
   ]
  },
  {
   "cell_type": "markdown",
   "id": "a2f93860-302a-45f3-ae7d-c2dc7162e23f",
   "metadata": {},
   "source": [
    "\n",
    "![Fashion-MNIST](https://raw.githubusercontent.com/zalandoresearch/fashion-mnist/refs/heads/master/doc/img/fashion-mnist-sprite.png)\n"
   ]
  },
  {
   "cell_type": "markdown",
   "id": "2a5c7f23",
   "metadata": {},
   "source": [
    "以下のラベルの画像について分類します。\n",
    "\n",
    "- label 2: プルオーバー\n",
    "- label 3: ドレス\n",
    "\n",
    "まずデータセットを読み込んで，クラスごとに1枚ずつ画像を表示してみます。"
   ]
  },
  {
   "cell_type": "code",
   "execution_count": null,
   "id": "3393fc6f",
   "metadata": {},
   "outputs": [],
   "source": [
    "# データのロード\n",
    "DATA_PATH = 'fashion.npz'\n",
    "data = np.load(DATA_PATH)\n",
    "\n",
    "sample_train = data['sample_train']\n",
    "labels_train = data['labels_train']\n",
    "sample_test = data['sample_test']\n",
    "\n",
    "# データセットの分割\n",
    "sample_train, sample_test, labels_train, labels_test = train_test_split(\n",
    "    sample_train, labels_train, test_size=0.2, random_state=42)\n",
    "\n",
    "# データの表示\n",
    "fig = plt.figure()\n",
    "LABELS = [2,3]\n",
    "num_labels = len(LABELS)\n",
    "for i in range(num_labels):\n",
    "    ax = fig.add_subplot(2, num_labels, i+1)\n",
    "    img = sample_train[labels_train==LABELS[i]][0].reshape((28, 28))\n",
    "    ax.imshow(img, cmap=\"Greys\")"
   ]
  },
  {
   "cell_type": "markdown",
   "id": "5262207e",
   "metadata": {},
   "source": [
    "次に，以下のデータセットの前処理をします\n",
    "\n",
    "- 主成分分析(PCA)による次元圧縮\n",
    "- 正規化\n",
    "- スケーリング\n",
    "- 学習用（80個）とテスト用（10個）のサンプルを選択\n"
   ]
  },
  {
   "cell_type": "code",
   "execution_count": null,
   "id": "5fab643c",
   "metadata": {},
   "outputs": [],
   "source": [
    "# 次元削除\n",
    "N_DIM = 4\n",
    "pca = PCA(n_components=N_DIM).fit(sample_train)\n",
    "sample_train = pca.transform(sample_train)\n",
    "sample_test = pca.transform(sample_test)\n",
    "\n",
    "# 正規化\n",
    "std_scale = StandardScaler().fit(sample_train)\n",
    "sample_train = std_scale.transform(sample_train)\n",
    "sample_test = std_scale.transform(sample_test)\n",
    "\n",
    "# スケーリング\n",
    "samples = np.append(sample_train, sample_test, axis=0)\n",
    "minmax_scale = MinMaxScaler((-1, 1)).fit(samples)\n",
    "sample_train = minmax_scale.transform(sample_train)\n",
    "sample_test = minmax_scale.transform(sample_test)\n",
    "\n",
    "# 選択\n",
    "train_size = 80\n",
    "sample_train = sample_train[:train_size]\n",
    "labels_train = labels_train[:train_size]\n",
    "\n",
    "test_size = 10\n",
    "sample_test = sample_test[:test_size]\n",
    "labels_test = labels_test[:test_size]"
   ]
  },
  {
   "cell_type": "code",
   "execution_count": null,
   "id": "84574a68",
   "metadata": {},
   "outputs": [],
   "source": [
    "# 一つ目のデータをそれぞれ表示\n",
    "print(sample_train[0], labels_train[0])\n",
    "print(sample_test[0], labels_test[0])"
   ]
  },
  {
   "cell_type": "markdown",
   "id": "2e933c27",
   "metadata": {},
   "source": [
    "## 演習\n",
    "\n",
    "この洋服画像データについて、特徴量マップ(`zz_feature_map`)を使ってカーネル行列を計算し、古典のSVMを使って学習してみます。学習率を確認してみましょう。「#コードを入れてください」にコードを記入して、コードを完成させてください。\n"
   ]
  },
  {
   "cell_type": "code",
   "execution_count": null,
   "id": "b6703957",
   "metadata": {},
   "outputs": [],
   "source": [
    "zz_map =  #コードを入れてください -1\n",
    "fidelity = #コードを入れてください -2\n",
    "fidelity.measure_all()\n",
    "fidelity.decompose().draw('mpl', idle_wires=False, fold=-1)"
   ]
  },
  {
   "cell_type": "code",
   "execution_count": null,
   "id": "23a0f262-a7ad-4c94-bf63-8422a4d33014",
   "metadata": {},
   "outputs": [],
   "source": [
    "# 空のカーネル行列\n",
    "kernel_matrix = np.full((train_size, train_size), np.nan) # 80x80の学習用カーネル行列\n",
    "test_matrix = np.full((test_size, train_size), np.nan) # 10x80のテスト用カーネル行列"
   ]
  },
  {
   "cell_type": "markdown",
   "id": "e79f65d7",
   "metadata": {},
   "source": [
    "カーネル行列を計算します。"
   ]
  },
  {
   "cell_type": "code",
   "execution_count": null,
   "id": "a4b73a4f-fd07-41b4-a3ea-4a131c73f539",
   "metadata": {},
   "outputs": [],
   "source": [
    "%%time\n",
    "num_shots = 1024\n",
    "\n",
    "backend = AerSimulator()\n",
    "sampler = Sampler(mode=backend)\n",
    "\n",
    "for x1 in range(0,train_size):\n",
    "    for x2 in range(x1+1,train_size):\n",
    "        unitary1 = #コードを入れてください -3\n",
    "        unitary2 = #コードを入れてください -4\n",
    "\n",
    "        # Overlap回路の作成\n",
    "        overlap_circ = unitary_overlap(unitary1, unitary2)\n",
    "        overlap_circ.measure_all()\n",
    "    \n",
    "        # Qiskit sampler primitiveの実行\n",
    "        counts = (\n",
    "            sampler.run([overlap_circ], shots=num_shots).result()[0].data.meas.get_int_counts()\n",
    "        )\n",
    "\n",
    "        # |0>状態の確率をカーネル行列の要素に入れ、転置された要素にも同じ確率を入れます。\n",
    "        kernel_matrix[x1, x2] = counts.get(0, 0.0)/num_shots\n",
    "        kernel_matrix[x2, x1] = counts.get(0, 0.0)/num_shots\n",
    "    # 確率の内積なので、対角線上の要素を1で埋めます\n",
    "    kernel_matrix[x1,x1] =1    \n",
    "\n",
    "print(\"training done\")\n",
    "\n",
    "# 上記と同様のプロセスをテストデータを使って行う\n",
    "for x1 in range(0,test_size):\n",
    "    for x2 in range(0,train_size):\n",
    "        unitary1 = #コードを入れてください -5\n",
    "        unitary2 = #コードを入れてください -6\n",
    "\n",
    "        # Overlap回路の作成\n",
    "        overlap_circ = unitary_overlap(unitary1, unitary2)\n",
    "        overlap_circ.measure_all()\n",
    "    \n",
    "        counts = (\n",
    "            sampler.run([overlap_circ], shots=num_shots).result()[0].data.meas.get_int_counts()\n",
    "        )\n",
    "\n",
    "        test_matrix[x1, x2] = counts.get(0, 0.0)/num_shots\n",
    "\n",
    "print(\"test matrix done\")"
   ]
  },
  {
   "cell_type": "markdown",
   "id": "6499c3fa-5615-4dae-8b27-5a1895b1803e",
   "metadata": {},
   "source": [
    "行列を表示します。"
   ]
  },
  {
   "cell_type": "code",
   "execution_count": null,
   "id": "868b7991-8126-4e26-8125-643244a6a83f",
   "metadata": {},
   "outputs": [],
   "source": [
    "fig, axs = plt.subplots(1, 2, figsize=(10, 5))\n",
    "axs[0].imshow(np.asmatrix(kernel_matrix),\n",
    "              interpolation='nearest', origin='upper', cmap='Blues')\n",
    "axs[0].set_title(\"kernel matrix\")\n",
    "axs[1].imshow(np.asmatrix(test_matrix),\n",
    "              interpolation='nearest', origin='upper', cmap='Reds')\n",
    "axs[1].set_title(\"test matrix\")\n",
    "plt.show()"
   ]
  },
  {
   "cell_type": "markdown",
   "id": "f5b0b3a5-7624-4dbf-8718-fa5abd6824f8",
   "metadata": {},
   "source": [
    "計算された量子カーネル行列を使って古典計算で学習します。"
   ]
  },
  {
   "cell_type": "code",
   "execution_count": null,
   "id": "6d27a027-f158-4baa-8ec4-ec8d8bcd823d",
   "metadata": {},
   "outputs": [],
   "source": [
    "# 古典の機械学習パッケージからサポートベクトル分類器で事前に計算されたカーネル行列を使用することを指定\n",
    "qml_svc = SVC(kernel=\"precomputed\")\n",
    "\n",
    "# 事前に計算された行列と学習データのラベルを入力。古典アルゴリズムがfitを行います。\n",
    "qml_svc.fit(kernel_matrix, labels_train)\n",
    "\n",
    "# 学習データとテストデータのカーネル行列を用いてテストデータのラベルを予測します。\n",
    "label_predict = qml_svc.predict(test_matrix)\n",
    "print(label_predict, labels_test, sep=\"\\n\")\n",
    "\n",
    "# テストデータの行列とテストラベルを入力として、.scoreを使ってデータをテストします。\n",
    "qml_score_precomputed_kernel = qml_svc.score(test_matrix, labels_test)\n",
    "print(f\"Precomputed kernel classification test score: {qml_score_precomputed_kernel}\")"
   ]
  },
  {
   "cell_type": "markdown",
   "id": "44908aa1",
   "metadata": {},
   "source": [
    "## 時間の余った方向け\n",
    "\n",
    "データセットunknown_dataが プルオーバー（ラベル2）、またはドレス（ラベル3）、どちらのデータセットであるかを学習した量子カーネル行列を使って、SVMで判別してください。データunknown_dataは、10個の同じラベルのデータセットを次元削除、正規化、スケーリングしたものです。"
   ]
  },
  {
   "cell_type": "code",
   "execution_count": null,
   "id": "2e7b7afd",
   "metadata": {},
   "outputs": [],
   "source": [
    "unknown_data =[[-0.13116065, -0.06375504, -0.13685728,  0.84755115],\n",
    "                [-0.37941815, -0.76067967, -0.22019793,  0.17362356],\n",
    "               [-0.32055824, -0.32319408, -0.36608317,  0.68697767],\n",
    "               [ 0.31559114, -0.22212598, -0.01367073,  0.26984296],\n",
    "               [ 0.61950235,  0.11437916, -0.71187256, -0.20481759],\n",
    "               [ 0.81223033,  0.16992666,  0.0184564,   0.03393165],\n",
    "               [ 0.84295123,  0.07871908, -0.73484068,  0.05869072],\n",
    "               [-0.32055824, -0.32319408, -0.36608317,  0.68697767],\n",
    "               [ 0.31559114, -0.22212598, -0.01367073,  0.26984296],\n",
    "               [ 0.61950235,  0.11437916, -0.71187256, -0.20481759]]"
   ]
  },
  {
   "cell_type": "code",
   "execution_count": null,
   "id": "5d07b95d",
   "metadata": {},
   "outputs": [],
   "source": [
    "%%time\n",
    "# 学習データとunknown_dataデータとのカーネル行列(80x10)を計算します\n",
    "\n",
    "\n",
    "\n",
    "\n",
    "\n",
    "\n",
    "\n",
    "\n",
    "\n",
    "\n",
    "\n",
    "print(\"test matrix done\")"
   ]
  },
  {
   "cell_type": "code",
   "execution_count": null,
   "id": "fd44df34-b45a-476a-82a3-8a36eaaf6cc7",
   "metadata": {},
   "outputs": [],
   "source": [
    "# 学習データとunknown_dataデータのカーネル行列を用いてテストデータのラベルを予測します。\n",
    "label_predict = qml_svc.predict(test_matrix)\n",
    "print(label_predict)"
   ]
  },
  {
   "cell_type": "code",
   "execution_count": null,
   "id": "f994d1f1",
   "metadata": {},
   "outputs": [],
   "source": [
    "import qiskit\n",
    "qiskit.__version__"
   ]
  }
 ],
 "metadata": {
  "kernelspec": {
   "display_name": "Python 3 (ipykernel)",
   "language": "python",
   "name": "python3"
  },
  "language_info": {
   "codemirror_mode": {
    "name": "ipython",
    "version": 3
   },
   "file_extension": ".py",
   "mimetype": "text/x-python",
   "name": "python",
   "nbconvert_exporter": "python",
   "pygments_lexer": "ipython3",
   "version": "3.12.3"
  }
 },
 "nbformat": 4,
 "nbformat_minor": 5
}
