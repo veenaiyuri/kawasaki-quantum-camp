{
 "cells": [
  {
   "cell_type": "markdown",
   "metadata": {
    "slideshow": {
     "slide_type": "fragment"
    }
   },
   "source": [
    "# 量子コンピューターで農地収穫量問題を解こう\n",
    "Kawasaki Quantum Summer Camp 2025\n",
    "\n",
    "Yuri Kobayashi, IBM Quantum (July 31, 2025)\n"
   ]
  },
  {
   "cell_type": "markdown",
   "metadata": {
    "slideshow": {
     "slide_type": "slide"
    }
   },
   "source": [
    "## はじめに <a id='Introduction'></a>\n",
    "\n",
    "量子コンピューターは、古典コンピューターでは解けない問題を解決する可能性を秘めています。\n",
    "\n",
    "実社会で有用な計算において量子コンピューターが古典コンピューターの計算速度を上回り、その優位性を示す領域を特定することは、量子コンピューターが実用化される時代に向けてとても重要なことです。このような優位性が期待される領域には、機械学習、計算化学、組み合わせ最適化問題などが挙げられます。今回はアフリカの食料問題をテーマに、農地の収穫量を最大化することを目的とした組み合わせ最適化問題を取り上げます。"
   ]
  },
  {
   "cell_type": "markdown",
   "metadata": {
    "slideshow": {
     "slide_type": "slide"
    }
   },
   "source": [
    "### 準備：必要なモジュールとライブラリのインポート\n",
    "最初に必要なモジュールとライブラリをインポートしておきましょう。Jupyter notebookでは、セルにカーソルを置き、Shift+Enterを押すと、セル内のコードが実行されます。"
   ]
  },
  {
   "cell_type": "markdown",
   "metadata": {},
   "source": [
    "それでは、まずはインストールされているQiskitのバージョンを調べてみましょう。バージョンを確認するには、qiskitライブラリをインポートしてから、以下のようなコマンドを実行します。"
   ]
  },
  {
   "cell_type": "code",
   "execution_count": null,
   "metadata": {},
   "outputs": [],
   "source": [
    "# 必要なライブラリのインポート\n",
    "import numpy as np\n",
    "import matplotlib.pyplot as plt\n",
    "from scipy.optimize import minimize\n",
    "import warnings\n",
    "warnings.filterwarnings(\"ignore\")\n",
    "\n",
    "import matplotlib.pyplot as plt\n",
    "import matplotlib.font_manager as fm\n",
    "\n",
    "from qiskit import QuantumCircuit\n",
    "\n",
    "from qiskit_ibm_runtime import QiskitRuntimeService\n",
    "from qiskit_ibm_runtime import Session, EstimatorV2 as Estimator\n",
    "from qiskit_ibm_runtime import SamplerV2 as Sampler\n",
    "from qiskit_ibm_runtime import Batch, SamplerOptions, Session\n",
    "from qiskit.primitives import StatevectorEstimator\n",
    "from qiskit_aer.primitives import SamplerV2\n",
    "from qiskit_aer import AerSimulator\n",
    "\n",
    "from qiskit.transpiler.preset_passmanagers import generate_preset_pass_manager\n",
    "\n",
    "from qiskit_optimization import QuadraticProgram\n",
    "from qiskit_optimization.converters import QuadraticProgramToQubo\n",
    "from qiskit.quantum_info import SparsePauliOp\n",
    "from qiskit.circuit.library import QAOAAnsatz"
   ]
  },
  {
   "cell_type": "markdown",
   "metadata": {},
   "source": [
    "以上で準備は完了です。"
   ]
  },
  {
   "cell_type": "markdown",
   "metadata": {
    "slideshow": {
     "slide_type": "slide"
    }
   },
   "source": [
    "## 農地の収穫量問題 <a id=\"CropYieldProblem\"></a>\n",
    "農場の作物や経営を最適化して、リスクを減らしながら利益を上げたいというニーズはよくあります。アフリカや全世界が直面している大きな課題の1つは、すべての人に十分な食料をいかに生産するかということです。今回問題とするのは、利益ではなく、収穫した作物のトン数です。農地の広さが決められ、植えられる作物の種類が与えられたとき、どの作物をそれぞれ何ヘクタール植えたら、収穫量を最大にできるかが課題になります。"
   ]
  },
  {
   "cell_type": "markdown",
   "metadata": {
    "slideshow": {
     "slide_type": "slide"
    }
   },
   "source": [
    "<table>\n",
    "    <tr>\n",
    "        <th>\n",
    "            <img src=\"images/farm_template.svg\" width=\"384px\"/>\n",
    "        </th>\n",
    "    </tr>\n",
    "    <tr>\n",
    "        <th>\n",
    "            あなたの経営する美しい3ha(ヘクタール)の農場\n",
    "        </th>\n",
    "    </tr>\n",
    "</table>\n",
    "\n",
    "<table>\n",
    "    <tr>\n",
    "        <th>\n",
    "        <img src=\"images/crop_wheat.svg\" width=\"256px\"/>\n",
    "        </th>\n",
    "        <th>\n",
    "            <img src=\"images/crop_soybeans.svg\" width=\"256px\"/>\n",
    "        </th>\n",
    "        <th>\n",
    "            <img src=\"images/crop_maize.svg\" width=\"256px\"/>\n",
    "        </th>\n",
    "        <th>\n",
    "            <img src=\"images/crop_pushpull.svg\" width=\"256px\"/>\n",
    "        </th>\n",
    "    </tr>\n",
    "    <tr>\n",
    "        <th>\n",
    "            小麦\n",
    "        </th>\n",
    "        <th>\n",
    "            大豆\n",
    "        </th>\n",
    "        <th>\n",
    "            トウモロコシ\n",
    "        </th>\n",
    "        <th>\n",
    "            プッシュプル\n",
    "        </th>\n",
    "<!--         <th>\n",
    "            <p align=\"right\" style=\"height:32px;padding-top:10px;\">Wheat<img src=\"wheat.svg\" width=\"32px\" style=\"float:left;margin-top:-10px;margin-right:8px;\"/></p>\n",
    "        </th>\n",
    "        <th>\n",
    "            <p style=\"height:32px;padding-top:10px;\">Soybeans<img src=\"soybeans.svg\" width=\"32px\" style=\"float:left;margin-top:-10px;margin-right:8px;\"/></p>\n",
    "        </th>\n",
    "        <th>\n",
    "            <p style=\"height:32px;padding-top:10px;\">Maize<img src=\"maize.svg\" width=\"32px\" style=\"float:left;margin-top:-10px;margin-right:8px;\"/></p>\n",
    "        </th>\n",
    "        <th>\n",
    "            <p style=\"height:32px;padding-top:10px;\">Push-Pull<img src=\"pushpull.svg\" width=\"32px\" style=\"float:left;margin-top:-10px;margin-right:8px;\"/></p>\n",
    "        </th> -->\n",
    "    </tr>\n",
    "</table>\n",
    "\n",
    "農法には「単作」「間作」「プッシュプル農法」の3種類があります。単作とは、一つの作物だけを栽培する方法です。単作では、病気や害虫の影響を受けやすく、収穫量全体に影響を及ぼします。また、異なる作物を近くで栽培すると、両方の収穫量が増えたり、逆に収穫量が減ったりします。間作とは、収穫量を増やすために2つの異なる作物を選択することです。プッシュプル農法とは、害虫を寄せ付けないプッシュ作物と、害虫を引き寄せるプル作物をペアで栽培することです。これを大規模な農場に組み込むことで、収穫量を増やすことができます。ただ、プッシュプル作物は利用できなかったり食用にならないため、プッシュプル作物を全体の収穫量として使用できません。\n",
    "<table>\n",
    "    <tr>\n",
    "        <th>\n",
    "        <img src=\"images/farm_mono.svg\" width=\"256px\"/>\n",
    "        </th>\n",
    "        <th>\n",
    "            <img src=\"images/farm_intercrop.svg\" width=\"256px\"/>\n",
    "        </th>\n",
    "        <th>\n",
    "            <img src=\"images/farm_intercrop_pushpull.svg\" width=\"256px\"/>\n",
    "        </th>\n",
    "    </tr>\n",
    "    <tr>\n",
    "        <th>\n",
    "            単作\n",
    "        </th>\n",
    "        <th>\n",
    "            間作\n",
    "        </th>\n",
    "        <th>\n",
    "            プッシュプル農法\n",
    "        </th>\n",
    "    </tr>\n",
    "</table>"
   ]
  },
  {
   "cell_type": "markdown",
   "metadata": {
    "slideshow": {
     "slide_type": "slide"
    }
   },
   "source": [
    "このような農地の収穫量問題は、変数の特定の組み合わせで解が得られるという点で、組合せ最適化問題です。ここで紹介する問題は古典的に解くことができるほど小さいものですが、より大きな問題になると、最適化すべき組み合わせの数が多くなるため、古典的なコンピュータでは扱いにくくなります。"
   ]
  },
  {
   "cell_type": "markdown",
   "metadata": {
    "slideshow": {
     "slide_type": "slide"
    }
   },
   "source": [
    "### 目的：収穫量の最大化\n",
    "あなたは$3~ha$の農場のオーナーです。植えられる作物は、小麦、大豆、トウモロコシ、プッシュプルの4種類です。プッシュプルは、収穫しても売ることはできませんが、他の作物の収穫量を増やすことができます。それぞれの作物は$0~ha$または$1~ha$作付けすることができます。この農場の収穫量(トン)を以下のような2次関数として定義します。この2次関数の変数は、作付けする作物の作付け面積（ヘクタール数）です。解きたい問題は、どの作物の組合せを選べば、最大の収穫量が得られるか(2次関数を最大化できるか)ということです。"
   ]
  },
  {
   "cell_type": "markdown",
   "metadata": {},
   "source": [
    "#### 作物の種類\n",
    "<img src=\"images/qubo_problem_graphical_variables.svg\" width=\"534px\"/> <br>\n",
    "$~$$~$$~$$~$$~$$~$$~$$~$$~$$~$$~$$~$$~$$~$$~$$~$小麦　　　　　　　大豆　　　　　　トウモロコシ　　　　　プッシュプル"
   ]
  },
  {
   "cell_type": "markdown",
   "metadata": {},
   "source": [
    "#### 問題の定式化\n",
    "<img src=\"images/qubo_problem_graphical.svg\" width=\"400px\"/>\n"
   ]
  },
  {
   "cell_type": "markdown",
   "metadata": {
    "slideshow": {
     "slide_type": "-"
    }
   },
   "source": [
    "$$\n",
    "\\begin{align}\n",
    "    \\text{maximize} \\quad & 2(\\operatorname{Wheat}) + \\operatorname{Soybeans} + 4(\\operatorname{Maize}) \\\\\n",
    "    & + 2.4(\\operatorname{Wheat}\\times\\operatorname{Soybeans}) \\\\ & + 4(\\operatorname{Wheat}\\times\\operatorname{Maize})\\\\\n",
    "    &+ 4(\\operatorname{Wheat}\\times\\operatorname{PushPull}) \\\\ & + 2(\\operatorname{Soybeans}\\times\\operatorname{Maize}) \\\\\n",
    "                          & + (\\operatorname{Soybeans}\\times\\operatorname{PushPull}) \\\\ & + 5(\\operatorname{Maize}\\times\\operatorname{PushPull})\n",
    "\\end{align}\n",
    "$$\n",
    "\n",
    "$$\n",
    "\\begin{align}\n",
    "\\text{subject to} \\quad & \\operatorname{Wheat} + \\operatorname{Soybeans} + \\operatorname{Maize} + \\operatorname{PushPull} \\leq{} 3\\\\\n",
    "& 0\\leq{}\\operatorname{Wheat}\\leq{}1\\\\\n",
    "& 0\\leq{}\\operatorname{Soybeans}\\leq{}1\\\\\n",
    "& 0\\leq{}\\operatorname{Maize}\\leq{}1\\\\\n",
    "& 0\\leq{}\\operatorname{PushPull}\\leq{}1\n",
    "\\end{align}\n",
    "$$"
   ]
  },
  {
   "cell_type": "markdown",
   "metadata": {
    "slideshow": {
     "slide_type": "slide"
    }
   },
   "source": [
    "### 演習：量子コンピューターが計算できる形２次計画問題を作成してみましょう\n",
    "\n",
    "上記で定義した問題を表す２次計画問題（`QuadraticProgram`）を作成するための準備として、 `cropyield_quadratic_program` 関数を定義します。つづいて、上記の目的関数にある各変数の係数をみながら、以下の「**#目的関数の定義**」と「**#制約の追加**」の各コメント下の式にそれぞれ係数を代入してみましょう。\n",
    "\n",
    "変数名は何でもよいですが、ここでは `W`、 `S`、 `M`、 および `P`を使っています。"
   ]
  },
  {
   "cell_type": "code",
   "execution_count": null,
   "metadata": {},
   "outputs": [],
   "source": [
    "#穴埋め問題\n",
    "# 先に、２次計画問題 (Quadratic Program)の作成準備をしておきます。\n",
    "\n",
    "from qiskit_optimization import QuadraticProgram\n",
    "\n",
    "def cropyield_quadratic_program():\n",
    "    cy = QuadraticProgram(name=\"Crop Yield\")\n",
    "\n",
    "    # Binary decision variables\n",
    "    cy.binary_var(name=\"W\")  # Wheat (麦)\n",
    "    cy.binary_var(name=\"S\")  # Soybeans (大豆)\n",
    "    cy.binary_var(name=\"M\")  # Maize (トウモロコシ)\n",
    "    cy.binary_var(name=\"P\")  # Pushpull (プッシュプル)\n",
    "\n",
    "    # 問題の定式化(穴埋め問題)\n",
    "    ##############################\n",
    "    \n",
    "    # 定式化のパートはここから。単作と間作の係数をそれぞれ当てはめてください。\n",
    "    # 目的関数の定義\n",
    "    cy.maximize(\n",
    "        linear={\"W\": , \"S\": , \"M\": },\n",
    "        quadratic={\n",
    "            (\"W\", \"S\"): ,\n",
    "            (\"W\", \"M\"): ,\n",
    "            (\"W\", \"P\"): ,\n",
    "            (\"S\", \"M\"): ,\n",
    "            (\"S\", \"P\"): ,\n",
    "            (\"M\", \"P\"): \n",
    "        }\n",
    "    )\n",
    "\n",
    "    # 制約: 選べる作物の品種 ≤ 3\n",
    "    # 以下に各作物をいくつまで選択できるか、そして選べる品種は３種類以下であるという制約条件を設定してください。\n",
    "    cy.linear_constraint(linear={\"W\": , \"S\": , \"M\": , \"P\": }, sense=\"<=\", rhs=)\n",
    "    \n",
    "    ##############################\n",
    "    \n",
    "    return cy"
   ]
  },
  {
   "cell_type": "code",
   "execution_count": null,
   "metadata": {},
   "outputs": [],
   "source": [
    "cy = cropyield_quadratic_program()\n",
    "# print(cy.export_as_lp_string())\n",
    "print(cy.prettyprint())"
   ]
  },
  {
   "cell_type": "markdown",
   "metadata": {},
   "source": [
    "## 古典的な解法 <a id=\"ClassicalSolution\"></a>"
   ]
  },
  {
   "cell_type": "markdown",
   "metadata": {},
   "source": [
    "この問題はさほど大きくないので、古典的に厳密解を求めることも可能です。実際に量子コンピューターで解く前に、古典的に解を求めておきましょう。これは本日皆さんは実行しなくて大丈夫です。\n",
    "\n",
    "今回のような２次計画問題は長年研究されてきている最適化問題であり、その最適解を算出するための「ソルバー」と呼ばれるツールがいくつも用意されています。ここではこの農地収穫量問題をIBM ILOC CPLEXと呼ばれるよく知られているソルバーで予め解いた結果だけご紹介します。IBM ILOG CPLEXは通常は有料のライセンスが必要ですが、IBM SkillsBuildのサイトから登録することで[教育目的で利用できる無償ダウンロード版](https://github.com/academic-initiative/documentation/blob/main/academic-initiative/how-to/How-to-download-IBM-ILOG-CPLEX/readme.md)を入手することも可能ですので、興味のある方は学校の先生にお願いをしてアカデミックライセンスを活用してください（注：当ライセンスを得るにはアカデミックドメインのメールアドレス登録が必要です）"
   ]
  },
  {
   "cell_type": "code",
   "execution_count": null,
   "metadata": {},
   "outputs": [],
   "source": [
    "import cplex\n",
    "from qiskit_optimization.problems.constraint import ConstraintSense\n",
    "\n",
    "def solve_crop_yield_with_cplex():\n",
    "    # Get the Qiskit problem\n",
    "    qp: QuadraticProgram = cropyield_quadratic_program()\n",
    "\n",
    "    # Extract variable names\n",
    "    var_names = [var.name for var in qp.variables]\n",
    "    num_vars = len(var_names)\n",
    "\n",
    "    # Create a CPLEX model\n",
    "    model = cplex.Cplex()\n",
    "    model.set_problem_type(cplex.Cplex.problem_type.MIQP)\n",
    "    model.objective.set_sense(model.objective.sense.maximize)\n",
    "\n",
    "    # Silence all output\n",
    "    model.set_log_stream(None)\n",
    "    model.set_error_stream(None)\n",
    "    model.set_warning_stream(None)\n",
    "    model.set_results_stream(None)\n",
    "\n",
    "    # Add binary variables\n",
    "    model.variables.add(names=var_names, types='B' * num_vars)\n",
    "\n",
    "    # Set linear coefficients\n",
    "    linear = qp.objective.linear.to_dict()\n",
    "    model.objective.set_linear(list(linear.items()))\n",
    "\n",
    "    # Set quadratic coefficients\n",
    "    for (i, j), coeff in qp.objective.quadratic.to_dict().items():\n",
    "        model.objective.set_quadratic_coefficients(i, j, coeff)\n",
    "\n",
    "    \n",
    "    sense_map = {\n",
    "    ConstraintSense.LE: \"L\",\n",
    "    ConstraintSense.EQ: \"E\",\n",
    "    ConstraintSense.GE: \"G\",\n",
    "}\n",
    "    # Add linear constraints\n",
    "    for constraint in qp.linear_constraints:\n",
    "        lin_expr = [[], []]\n",
    "        for var, coeff in constraint.linear.to_dict().items():\n",
    "            lin_expr[0].append(var)\n",
    "            lin_expr[1].append(coeff)\n",
    "        sense_str = sense_map.get(constraint.sense)\n",
    "        if sense_str is None:\n",
    "            raise ValueError(f\"Unknown constraint sense: {constraint.sense}\")\n",
    "        model.linear_constraints.add(\n",
    "            lin_expr=[lin_expr],\n",
    "            senses=[sense_str],\n",
    "            rhs=[constraint.rhs]\n",
    "        )\n",
    "\n",
    "    # Solve\n",
    "    model.solve()\n",
    "\n",
    "    # Display results\n",
    "    if model.solution.is_primal_feasible():\n",
    "        print(\"Status:\", model.solution.get_status_string())\n",
    "        print(\"Objective value:\", model.solution.get_objective_value())\n",
    "        solution = model.solution.get_values()\n",
    "        for name, val in zip(var_names, solution):\n",
    "            print(f\"{name} = {val}\")\n",
    "    else:\n",
    "        print(\"No feasible solution found.\")\n",
    "\n",
    "# Call the function\n",
    "solve_crop_yield_with_cplex()"
   ]
  },
  {
   "cell_type": "markdown",
   "metadata": {},
   "source": [
    "古典の厳密解はどのような結果になったでしょうか？この結果を踏まえて、量子コンピューターで解いた結果とあとで付き合わせてみましょう。"
   ]
  },
  {
   "cell_type": "markdown",
   "metadata": {
    "slideshow": {
     "slide_type": "slide"
    }
   },
   "source": [
    "## 量子コンピューターで解くための準備 <br/> QUBO形式への変換 <a id=\"QUBO\"></a>\n"
   ]
  },
  {
   "cell_type": "markdown",
   "metadata": {
    "slideshow": {
     "slide_type": "-"
    }
   },
   "source": [
    "最適化問題を特定の量子アルゴリズムで解くためには、通常、適性なフォーマットに変換して適用可能な状態にする必要があります。今回のような2次計画問題を量子コンピューター解く際には、Quadratic Unconstrained Binary Optimization (QUBO) 形式という特殊な形式に変換します。"
   ]
  },
  {
   "cell_type": "markdown",
   "metadata": {
    "slideshow": {
     "slide_type": "slide"
    }
   },
   "source": [
    "## 演習: 農地収穫量問題のQUBOへの変換\n",
    "私たちの農地収穫量問題をQUBOに変換しましょう。\n",
    "最適化問題を量子コンピューターが解けるよう、QUBO形式に変換してくれるクラス[QuadraticProgramToQubo](https://qiskit.org/ecosystem/optimization/stubs/qiskit_optimization.converters.QuadraticProgramToQubo.html)を呼び出し、先ほど作成した２次計画問題の`cy`を引数に変換(convert)します。"
   ]
  },
  {
   "cell_type": "code",
   "execution_count": null,
   "metadata": {
    "slideshow": {
     "slide_type": "-"
    }
   },
   "outputs": [],
   "source": [
    "# 農地収穫量問題をQUBO形式に変換する\n",
    "cyQUBO=QuadraticProgramToQubo().convert(cy)\n",
    "\n",
    "print(cyQUBO.prettyprint())\n",
    "# print(cyQUBO.export_as_lp_string())"
   ]
  },
  {
   "cell_type": "markdown",
   "metadata": {},
   "source": [
    "今回の最適化問題を解くのにつかうQAOAと呼ばれる量子アルゴリズムは、入力として[**イジング模型**](https://ja.wikipedia.org/wiki/%E3%82%A4%E3%82%B8%E3%83%B3%E3%82%B0%E6%A8%A1%E5%9E%8B) と呼ばれる数学モデルを要求します。この数学モデルはQUBOのバイナリ変数[0、1]を電子の上向きのスピンと下向きのスピンを現す[+1, -1]の変数に変換し量子コンピューターで問題が解けるようにしてくれます。"
   ]
  },
  {
   "cell_type": "code",
   "execution_count": null,
   "metadata": {},
   "outputs": [],
   "source": [
    "# QUBOをイジング模型に基づく形式（イジング・ハミルトニアン）に変換\n",
    "cost_hamiltonian, offset = cyQUBO.to_ising()\n",
    "print(\"Cost Function Hamiltonian:\", cost_hamiltonian, offset)"
   ]
  },
  {
   "cell_type": "markdown",
   "metadata": {},
   "source": [
    "### QAOAとは？\n",
    "\n",
    "まず、QAOA(Quantum Approximate Optimization Algorithm)とは最適化問題を解くためのアルゴリズムです。今回の「限られた作付面積に相性のよい作物とそうでない作物をどう植えたら一番収穫量をみこめるか」みたいな問題を、量子の力でうまく解こうとします。QiskitのCircuitライブラリにはQAOAアルゴリズムの基本的な回路を簡単につくってくれる`QAOAAnsatz`という関数があります。まずはこれを使ってQAOAの回路をつくってみましょう。"
   ]
  },
  {
   "cell_type": "code",
   "execution_count": null,
   "metadata": {},
   "outputs": [],
   "source": [
    "#ハミルトニアンをQAOAアルゴリズムに基づく量子回路に実装する\n",
    "\n",
    "circuit = QAOAAnsatz(cost_operator=cost_hamiltonian, reps=2)\n",
    "# circuit.measure_all()\n",
    "circuit.draw(\"mpl\")\n",
    "# circuit.decompose().draw('mpl')"
   ]
  },
  {
   "attachments": {},
   "cell_type": "markdown",
   "metadata": {},
   "source": [
    "上記QAOAアルゴリズムの量子回路をみると赤いブロックのなかに「γ(ガンマ)」と「β(ベータ)」という記号が見えます。\n",
    "ここではQAOAを「山の頂上を目指すためのゲーム」を解くためのアルゴリズムにたとえてこれらの記号の意味を説明します。\n",
    "\n",
    "- γ（ガンマ）は「ゴールの場所を意識する係数」\n",
    "→ ゴール（=正解）に近づこうとする力(重み付け）です。\n",
    "- β（ベータ）は「いろんな道を試してみる係数」\n",
    "→ ゴールだけじゃなくて、山のあらゆるルートを探索する力（重み付け）です。\n",
    "\n",
    "量子コンピューターは、はじめは全部の道をしらみつぶしに探している状態になります。\n",
    "そこから、「この道が良さそう」とか「この方向には行かない方がいい」みたいな情報を、γとβを使って調整していきます。\n",
    "\n",
    "γを強くすると、ゴールに向かって進もうとします（でも、途中にある丘や谷のせいで間違ったゴールに早くたどり着いちゃうかもしれません）。\n",
    "βを強くすると、いろんな道を試します（でも、ずっと迷ってなかなかゴールにたどり着けなくなってしまうかもしれません）。\n",
    "つまり、γとβのパラメーターバランスをうまくとることが大事になります。次の節ではこのγとβの値の調整から入ります。\n",
    "\n",
    "<img src=\"images/gamma_betta_knobs.png\" alt=\"Beta and Gamma Knobs\" width=\"300\">"
   ]
  },
  {
   "cell_type": "markdown",
   "metadata": {},
   "source": [
    "##  量子コンピューター上で回路を実行する準備"
   ]
  },
  {
   "cell_type": "markdown",
   "metadata": {},
   "source": [
    "### QAOAアルゴリズムのパラメータγとβの最適化\n",
    "\n",
    "量子コンピューターで回路を実行する前に、γとβを最適な値にチューニングします。まずは任意の値を初期値として設定します。ここではγの初期値をπ/4、βの初期値をπ/8にあわせたところからQAOAの回路を実行し最適なパラメータを探ります。"
   ]
  },
  {
   "cell_type": "code",
   "execution_count": null,
   "metadata": {},
   "outputs": [],
   "source": [
    "# γとβの初期値を設定\n",
    "initial_gamma = np.pi / 4\n",
    "initial_beta = np.pi / 8\n",
    "init_params = [initial_beta, initial_beta, initial_gamma, initial_gamma]"
   ]
  },
  {
   "cell_type": "markdown",
   "metadata": {},
   "source": [
    "IBMの量子コンピューターとやり取りするには、[Qiskit Runtime のプリミティブ](https://quantum.cloud.ibm.com/docs/en/guides/get-started-with-primitives)を使用します。Qiskit Runtime プリミティブとは、「よくある量子計算の操作を、誰でも簡単・高速に使えるようにしたツール」です。プリミティブには「Sampler」と「Estimator」の２種類があり、どちらを使うかは量子コンピューター上で実行したい測定の種類によって決まります。βとγの最適な値を求めるときはコスト関数の測定が単に期待値の計算になるため、「Estimator」を使用します。"
   ]
  },
  {
   "cell_type": "markdown",
   "metadata": {},
   "source": [
    "Qiskit Runtimeの主なプリミティブ</b><br>\n",
    "    \n",
    "| プリミティブ名 | 概要 | 主な用途 |\n",
    "|----------------|------|----------|\n",
    "| **Sampler**    | 量子回路の出力からサンプリングし、擬確率分布を推定 | 探索アルゴリズム（Groverなど）、分類、最適化 |\n",
    "| **Estimator**  | 量子回路の出力に対する観測量（observable）の期待値を計算 | 量子化学、最適化問題、機械学習のコスト関数評価 |</div>\n"
   ]
  },
  {
   "cell_type": "code",
   "execution_count": null,
   "metadata": {},
   "outputs": [],
   "source": [
    "# Estimatorの準備\n",
    "estimator = StatevectorEstimator()\n",
    "\n",
    "# ショット数と精度の設定\n",
    "shots = 10_000\n",
    "precision = np.sqrt(1 / shots)\n",
    "\n",
    "# 最適化する目的関数の設定：ここではγとβのパラメータ最適化が目的\n",
    "def cost_fn(params):\n",
    "    job = estimator.run([(circuit, cost_hamiltonian, params)])\n",
    "    result = job.result()[0]\n",
    "    return result.data.evs\n",
    "    \n",
    "# 最適化の実行\n",
    "result = minimize(\n",
    "    cost_fn,\n",
    "    init_params,\n",
    "    method=\"COBYLA\",\n",
    "    tol=1e-2,\n",
    ")\n",
    "\n",
    "print(result)"
   ]
  },
  {
   "cell_type": "markdown",
   "metadata": {},
   "source": [
    "ここでQAOAの量子回路に「Estimator」がみつけてくれた最適なβとγの値をパラメータとして渡します。パラメータ設定した回路は`optimized_circuit`と呼ぶことにします。"
   ]
  },
  {
   "cell_type": "code",
   "execution_count": null,
   "metadata": {},
   "outputs": [],
   "source": [
    "optimized_circuit = circuit.assign_parameters(result.x)\n",
    "# optimized_circuit.decompose(reps=2).draw(\"mpl\")\n",
    "optimized_circuit.draw(\"mpl\", fold=False, idle_wires=False)"
   ]
  },
  {
   "cell_type": "markdown",
   "metadata": {},
   "source": [
    "上記QAOAの回路をみると「Estimator」がみつけてくれたパラメータが設定されたことが確認されます。(e.g., γ[0.642], β[0.871], γ[0.648], β[0.373])"
   ]
  },
  {
   "cell_type": "markdown",
   "metadata": {},
   "source": [
    "### Samplerを使って回路を測定し確率分布を\n",
    "γとβのパラメータ設定が完了したところで、「Sampler」をつかって量子回路の出力からサンプリングし、確率分布を推定します。出力（例えば'010101'のような測定結果得られるビット列のこと）を得るために量子回路に「測定」を追加する必要があります。"
   ]
  },
  {
   "cell_type": "code",
   "execution_count": null,
   "metadata": {},
   "outputs": [],
   "source": [
    "#測定ゲートの追加\n",
    "optimized_circuit.measure_all()\n",
    "optimized_circuit.draw(\"mpl\", fold=False, idle_wires=False)"
   ]
  },
  {
   "cell_type": "markdown",
   "metadata": {},
   "source": [
    "量子回路に測定ゲートが追加されたところで、Aerシミュレーターが提供する「Sampler」をつかって量子回路の出力からサンプリングし、確率分布を推定します。"
   ]
  },
  {
   "cell_type": "code",
   "execution_count": null,
   "metadata": {},
   "outputs": [],
   "source": [
    "from qiskit import transpile\n",
    "from qiskit_aer import AerSimulator\n",
    "\n",
    "# バックエンドとしてAerSimulatorを使用\n",
    "backend = AerSimulator()\n",
    "\n",
    "# AerSimulatorにあわせた量子回路の最低化\n",
    "optimized_circuit = transpile(optimized_circuit, backend)\n",
    "\n",
    "# Samplerの実行\n",
    "sampler = SamplerV2()\n",
    "job = sampler.run([optimized_circuit], shots=1_000_000)\n",
    "result = job.result()\n",
    "counts = result[0].data.meas.get_counts()"
   ]
  },
  {
   "cell_type": "markdown",
   "metadata": {},
   "source": [
    "### 測定確率の高いビットストリングから解を導き出す"
   ]
  },
  {
   "cell_type": "markdown",
   "metadata": {},
   "source": [
    "最も測定確率が高いビットストリングが今回の農地収穫量問題において、量子コンピュータが求めた答えになります。以下のセルを実行して確認してみましょう。"
   ]
  },
  {
   "cell_type": "code",
   "execution_count": null,
   "metadata": {},
   "outputs": [],
   "source": [
    "bit_combinations = {\n",
    "    0: \"W\", # 麦\n",
    "    1: \"S\", # 大豆\n",
    "    2: \"M\", # トウモロコシ\n",
    "    3: \"P\", # プッシュプル\n",
    "}\n",
    "\n",
    "top = sorted(counts.items(), key=lambda x: x[1], reverse=True)[:1]\n",
    "\n",
    "# Decode meanings\n",
    "decoded_labels = []\n",
    "bitstrings = []\n",
    "probabilities = []\n",
    "\n",
    "for bitstring, prob in top:\n",
    "    meaning = [desc for i, desc in bit_combinations.items() if bitstring[::-1][i] == '1']\n",
    "    label = f\"{bitstring}\\n({' + '.join(meaning) if meaning else 'None'})\"\n",
    "    decoded_labels.append(label)\n",
    "    bitstrings.append(bitstring)\n",
    "    probabilities.append(prob)\n",
    "\n",
    "# Plot\n",
    "plt.figure(figsize=(10, 6))\n",
    "plt.bar(decoded_labels, probabilities, color='seagreen')\n",
    "plt.xlabel(\"Top Bitstring\")\n",
    "plt.ylabel(\"Counts\")\n",
    "plt.title(\"Best crop combination for maximizing crop yield\")\n",
    "plt.ylim(0, max(probabilities) * 1.2)\n",
    "plt.grid(axis='y')\n",
    "plt.xticks(rotation=30, ha='right')\n",
    "plt.tight_layout()\n",
    "plt.show()"
   ]
  },
  {
   "cell_type": "markdown",
   "metadata": {},
   "source": [
    "量子コンピューターで実行した結果はいかがでしょうか？古典解と同じ結果がでたでしょうか？それとも違う結果が出たでしょうか？QAOAアルゴリズムは難しい言葉でいうと[ヒューリスティック](https://ja.wikipedia.org/wiki/%E3%83%92%E3%83%A5%E3%83%BC%E3%83%AA%E3%82%B9%E3%83%86%E3%82%A3%E3%83%83%E3%82%AF)なアルゴリズムで、必ずしも最適な解を保証するわけではありません。そのため、必ずしも厳密解とは同じ答えは出しませんが、完璧な最適解を求めるのではなく、迅速に実用的な解決策を見つけるために有用なアルゴリズムです。"
   ]
  },
  {
   "cell_type": "markdown",
   "metadata": {
    "slideshow": {
     "slide_type": "slide"
    }
   },
   "source": [
    "## まとめ <a id=\"Summary\"></a>\n",
    "\n",
    "いかがでしたか？本日はハンズオンを通して以下を説明しました：\n",
    "\n",
    "- 最適化問題を解くための流れ\n",
    "- 定式化からの2次計画問題作成方法（係数の入力）\n",
    "- 2次計画問題のQUBO形式への変換\n",
    "- QUBO形式→イジング・ハミルトニアン→量子回路への実装\n",
    "- 量子アルゴリズムQAOAを適用した解法\n",
    "- Estimatorをつかったγとβパラメータの調整\n",
    "- Samplerをつかった最適解の導出"
   ]
  },
  {
   "cell_type": "markdown",
   "metadata": {
    "slideshow": {
     "slide_type": "skip"
    }
   },
   "source": [
    "## 参考文献 <a id=\"Reference\"></a>\n",
    "[1] A. A. Nel, ‘Crop rotation in the summer rainfall area of South Africa’, South African Journal of Plant and Soil, vol. 22, no. 4, pp. 274–278, Jan. 2005, doi: 10.1080/02571862.2005.10634721.\n",
    "\n",
    "[2] H. Ritchie and M. Roser, ‘Crop yields’, Our World in Data, 2013, [Online]. Available: https://ourworldindata.org/crop-yields.\n",
    "\n",
    "[3] G. Brion, ‘Controlling Pests with Plants: The power of intercropping’, UVM Food Feed, Jan. 09, 2014. https://learn.uvm.edu/foodsystemsblog/2014/01/09/controlling-pests-with-plants-the-power-of-intercropping/ (accessed Feb. 15, 2021).\n",
    "\n",
    "[4] N. O. Ogot, J. O. Pittchar, C. A. O. Midega, and Z. R. Khan, ‘Attributes of push-pull technology in enhancing food and nutrition security’, African Journal of Agriculture and Food Security, vol. 6, pp. 229–242, Mar. 2018."
   ]
  }
 ],
 "metadata": {
  "celltoolbar": "Slideshow",
  "interpreter": {
   "hash": "3ba4c4fa8600d6aa3ce58f0fd22d5f3c6b5fccba584be0f8b4a6b03533bf7dc8"
  },
  "kernelspec": {
   "display_name": "Python 3 (ipykernel)",
   "language": "python",
   "name": "python3"
  },
  "language_info": {
   "codemirror_mode": {
    "name": "ipython",
    "version": 3
   },
   "file_extension": ".py",
   "mimetype": "text/x-python",
   "name": "python",
   "nbconvert_exporter": "python",
   "pygments_lexer": "ipython3",
   "version": "3.11.8"
  },
  "rise": {
   "scroll": true
  },
  "toc": {
   "base_numbering": 1,
   "nav_menu": {},
   "number_sections": true,
   "sideBar": true,
   "skip_h1_title": false,
   "title_cell": "Table of Contents",
   "title_sidebar": "Contents",
   "toc_cell": false,
   "toc_position": {
    "height": "calc(100% - 180px)",
    "left": "10px",
    "top": "150px",
    "width": "195px"
   },
   "toc_section_display": true,
   "toc_window_display": true
  },
  "varInspector": {
   "cols": {
    "lenName": 16,
    "lenType": 16,
    "lenVar": 40
   },
   "kernels_config": {
    "python": {
     "delete_cmd_postfix": "",
     "delete_cmd_prefix": "del ",
     "library": "var_list.py",
     "varRefreshCmd": "print(var_dic_list())"
    },
    "r": {
     "delete_cmd_postfix": ") ",
     "delete_cmd_prefix": "rm(",
     "library": "var_list.r",
     "varRefreshCmd": "cat(var_dic_list()) "
    }
   },
   "oldHeight": 676.85,
   "position": {
    "height": "698.85px",
    "left": "2014px",
    "right": "20px",
    "top": "158px",
    "width": "477px"
   },
   "types_to_exclude": [
    "module",
    "function",
    "builtin_function_or_method",
    "instance",
    "_Feature"
   ],
   "varInspector_section_display": "block",
   "window_display": false
  },
  "widgets": {
   "application/vnd.jupyter.widget-state+json": {
    "state": {
     "0e3cf700fe4a4d848489887d8cb51e7a": {
      "model_module": "@jupyter-widgets/base",
      "model_module_version": "1.2.0",
      "model_name": "LayoutModel",
      "state": {
       "grid_template_areas": "\n                                       \". . . . right \"\n                                        ",
       "grid_template_columns": "20% 20% 20% 20% 20%",
       "width": "100%"
      }
     },
     "23d5cb4039f44cec818b242c25936918": {
      "model_module": "@jupyter-widgets/base",
      "model_module_version": "1.2.0",
      "model_name": "LayoutModel",
      "state": {
       "grid_area": "right",
       "padding": "0px 0px 0px 0px",
       "width": "70px"
      }
     },
     "37cf8728b6b041079e897ced40406c4b": {
      "model_module": "@jupyter-widgets/controls",
      "model_module_version": "1.5.0",
      "model_name": "GridBoxModel",
      "state": {
       "children": [
        "IPY_MODEL_eea5246b93144bf686f9457d65ee18ad"
       ],
       "layout": "IPY_MODEL_0e3cf700fe4a4d848489887d8cb51e7a"
      }
     },
     "438cfe8001ae49e799f7bf46f9031e27": {
      "model_module": "@jupyter-widgets/base",
      "model_module_version": "1.2.0",
      "model_name": "LayoutModel",
      "state": {}
     },
     "51e279c1759542a19adcacda82be1972": {
      "model_module": "@jupyter-widgets/controls",
      "model_module_version": "1.5.0",
      "model_name": "DescriptionStyleModel",
      "state": {
       "description_width": ""
      }
     },
     "53196a0afb12416abcc6651d07a4564e": {
      "model_module": "@jupyter-widgets/base",
      "model_module_version": "1.2.0",
      "model_name": "LayoutModel",
      "state": {
       "width": "190px"
      }
     },
     "5b58558c50ca42888f50421de08437ac": {
      "model_module": "@jupyter-widgets/controls",
      "model_module_version": "1.5.0",
      "model_name": "HTMLModel",
      "state": {
       "layout": "IPY_MODEL_438cfe8001ae49e799f7bf46f9031e27",
       "style": "IPY_MODEL_9dd930585032474495d021ca7c8d1a5b",
       "value": "<h5>Message</h5>"
      }
     },
     "5c65d63486474e848173c5ec3eda6e70": {
      "model_module": "@jupyter-widgets/controls",
      "model_module_version": "1.5.0",
      "model_name": "HTMLModel",
      "state": {
       "layout": "IPY_MODEL_d22f899da10b407f997d2ad04f6c61e8",
       "style": "IPY_MODEL_6fa54c949d994562bf969d7999d764f6",
       "value": "<h5>Backend</h5>"
      }
     },
     "6fa54c949d994562bf969d7999d764f6": {
      "model_module": "@jupyter-widgets/controls",
      "model_module_version": "1.5.0",
      "model_name": "DescriptionStyleModel",
      "state": {
       "description_width": ""
      }
     },
     "6fb2edaa3aba4bf98bebf3590d888871": {
      "model_module": "@jupyter-widgets/base",
      "model_module_version": "1.2.0",
      "model_name": "LayoutModel",
      "state": {
       "margin": "0px 0px 0px 37px",
       "width": "600px"
      }
     },
     "7487b8b13b7b416ab32588818c7a9fec": {
      "model_module": "@jupyter-widgets/controls",
      "model_module_version": "1.5.0",
      "model_name": "DescriptionStyleModel",
      "state": {
       "description_width": ""
      }
     },
     "77913006574642bfaf74bf268a342b5a": {
      "model_module": "@jupyter-widgets/base",
      "model_module_version": "1.2.0",
      "model_name": "LayoutModel",
      "state": {
       "margin": "0px 0px 10px 0px"
      }
     },
     "7af2bb16e70b4e0390af879f335fbb8c": {
      "model_module": "@jupyter-widgets/controls",
      "model_module_version": "1.5.0",
      "model_name": "HTMLModel",
      "state": {
       "layout": "IPY_MODEL_f2adc0f1950f497c9fbc3412907410db",
       "style": "IPY_MODEL_b760fb32a7944c1b8f9ab4b96fd71823",
       "value": "<h5>Status</h5>"
      }
     },
     "9dd930585032474495d021ca7c8d1a5b": {
      "model_module": "@jupyter-widgets/controls",
      "model_module_version": "1.5.0",
      "model_name": "DescriptionStyleModel",
      "state": {
       "description_width": ""
      }
     },
     "a897582bc61f427ebc953973eb589433": {
      "model_module": "@jupyter-widgets/controls",
      "model_module_version": "1.5.0",
      "model_name": "DescriptionStyleModel",
      "state": {
       "description_width": ""
      }
     },
     "b760fb32a7944c1b8f9ab4b96fd71823": {
      "model_module": "@jupyter-widgets/controls",
      "model_module_version": "1.5.0",
      "model_name": "DescriptionStyleModel",
      "state": {
       "description_width": ""
      }
     },
     "cbf7da19b46c4ddebef7281039e8b696": {
      "model_module": "@jupyter-widgets/controls",
      "model_module_version": "1.5.0",
      "model_name": "ButtonStyleModel",
      "state": {}
     },
     "d186802f578244cc8f8665340a2922da": {
      "model_module": "@jupyter-widgets/controls",
      "model_module_version": "1.5.0",
      "model_name": "HTMLModel",
      "state": {
       "layout": "IPY_MODEL_77913006574642bfaf74bf268a342b5a",
       "style": "IPY_MODEL_a897582bc61f427ebc953973eb589433",
       "value": "<p style='font-family: IBM Plex Sans, Arial, Helvetica, sans-serif; font-size: 20px; font-weight: medium;'>Circuit Properties</p>"
      }
     },
     "d22f899da10b407f997d2ad04f6c61e8": {
      "model_module": "@jupyter-widgets/base",
      "model_module_version": "1.2.0",
      "model_name": "LayoutModel",
      "state": {
       "width": "145px"
      }
     },
     "de345a54b5a6439ebaa8e2c199872d11": {
      "model_module": "@jupyter-widgets/controls",
      "model_module_version": "1.5.0",
      "model_name": "HBoxModel",
      "state": {
       "children": [
        "IPY_MODEL_e516a438b0a14872990d012fb54fdf02",
        "IPY_MODEL_5c65d63486474e848173c5ec3eda6e70",
        "IPY_MODEL_7af2bb16e70b4e0390af879f335fbb8c",
        "IPY_MODEL_e321856e5dff486f8f1f3b236f175476",
        "IPY_MODEL_5b58558c50ca42888f50421de08437ac"
       ],
       "layout": "IPY_MODEL_6fb2edaa3aba4bf98bebf3590d888871"
      }
     },
     "e321856e5dff486f8f1f3b236f175476": {
      "model_module": "@jupyter-widgets/controls",
      "model_module_version": "1.5.0",
      "model_name": "HTMLModel",
      "state": {
       "layout": "IPY_MODEL_fdb9e4f074024588a6625eb9321bb2ea",
       "style": "IPY_MODEL_51e279c1759542a19adcacda82be1972",
       "value": "<h5>Queue</h5>"
      }
     },
     "e516a438b0a14872990d012fb54fdf02": {
      "model_module": "@jupyter-widgets/controls",
      "model_module_version": "1.5.0",
      "model_name": "HTMLModel",
      "state": {
       "layout": "IPY_MODEL_53196a0afb12416abcc6651d07a4564e",
       "style": "IPY_MODEL_7487b8b13b7b416ab32588818c7a9fec",
       "value": "<h5>Job ID</h5>"
      }
     },
     "eea5246b93144bf686f9457d65ee18ad": {
      "model_module": "@jupyter-widgets/controls",
      "model_module_version": "1.5.0",
      "model_name": "ButtonModel",
      "state": {
       "button_style": "primary",
       "description": "Clear",
       "layout": "IPY_MODEL_23d5cb4039f44cec818b242c25936918",
       "style": "IPY_MODEL_cbf7da19b46c4ddebef7281039e8b696"
      }
     },
     "f2adc0f1950f497c9fbc3412907410db": {
      "model_module": "@jupyter-widgets/base",
      "model_module_version": "1.2.0",
      "model_name": "LayoutModel",
      "state": {
       "width": "95px"
      }
     },
     "fdb9e4f074024588a6625eb9321bb2ea": {
      "model_module": "@jupyter-widgets/base",
      "model_module_version": "1.2.0",
      "model_name": "LayoutModel",
      "state": {
       "width": "70px"
      }
     }
    },
    "version_major": 2,
    "version_minor": 0
   }
  }
 },
 "nbformat": 4,
 "nbformat_minor": 4
}
