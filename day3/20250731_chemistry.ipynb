{
 "cells": [
  {
   "attachments": {},
   "cell_type": "markdown",
   "id": "499c7be7-d78d-4493-b8b2-5cb18d6b5b6b",
   "metadata": {},
   "source": [
    "Kawasaki Quantum Summer Camp 2025\n",
    "\n",
    "# 量子化学シミュレーション：サンプルベースの量子対角化\n",
    "\n",
    "Kifumi Numata, IBM Quantum (Jul 31, 2025)"
   ]
  },
  {
   "cell_type": "code",
   "execution_count": null,
   "id": "f28f38f6-f7c0-4465-8dfe-5d3df16e2a0b",
   "metadata": {},
   "outputs": [],
   "source": [
    "# Import common packages first\n",
    "import numpy as np\n",
    "from math import comb\n",
    "import warnings\n",
    "import pyscf\n",
    "import matplotlib.pyplot as plt\n",
    "import pickle\n",
    "from functools import partial\n",
    "\n",
    "# Import qiskit classes\n",
    "from qiskit import QuantumCircuit, QuantumRegister\n",
    "from qiskit.transpiler.preset_passmanagers import generate_preset_pass_manager\n",
    "from qiskit.visualization import plot_gate_map\n",
    "from qiskit_addon_sqd.fermion import SCIResult, diagonalize_fermionic_hamiltonian, solve_sci_batch\n",
    "\n",
    "# Import qiskit ecosystems\n",
    "import ffsim\n",
    "from qiskit_ibm_runtime import QiskitRuntimeService, SamplerV2 as Sampler\n",
    "from qiskit_ibm_runtime import SamplerOptions"
   ]
  },
  {
   "cell_type": "code",
   "execution_count": null,
   "id": "ed556c08-628c-4894-ada3-f38c199e934e",
   "metadata": {},
   "outputs": [],
   "source": [
    "import qiskit\n",
    "print(f\"Qiskit version: {qiskit.__version__}\")"
   ]
  },
  {
   "cell_type": "markdown",
   "id": "d946d0a3-461b-467d-b67c-41b79f687b43",
   "metadata": {},
   "source": [
    "**目次**\n",
    "\n",
    "- 1: チュートリアル -  $N_2$ 分子の基底エネルギーを近似する手法を学ぶ\n",
    "- 2: 演習 - パラメーターを調整して、基底エネルギーの改善をする"
   ]
  },
  {
   "cell_type": "markdown",
   "id": "9e40af77-7f0f-4dd6-ab0a-420cf396050e",
   "metadata": {},
   "source": [
    "# 1: チュートリアル"
   ]
  },
  {
   "cell_type": "markdown",
   "id": "afeb054c",
   "metadata": {},
   "source": [
    "## Step 1. 問題を量子回路にマッピングする\n",
    "\n",
    "まず、$N_2$ 分子とそのプロパティを指定します。次に、量子回路を作成し、量子コンピューターから基底状態エネルギー推定用のサンプルを生成します。"
   ]
  },
  {
   "cell_type": "markdown",
   "id": "3fcd4a68-7040-4b30-8253-d5c05042fc16",
   "metadata": {},
   "source": [
    "<div class=\"alert alert-block alert-info\">\n",
    "    \n",
    "⚠️ **Note:** 回路データは事前に計算されてこのノートブックで提供されているため、`pyscf` の実行の必要はありません。下のセルを実行して、**「最適化された量子回路をロードする」** セクションに直接進むことができます。\n",
    "</div>\n"
   ]
  },
  {
   "cell_type": "code",
   "execution_count": null,
   "id": "677f54ac-b4ed-47e3-b5ba-5366d3a520f9",
   "metadata": {},
   "outputs": [],
   "source": [
    "import warnings, pickle\n",
    "import numpy as np\n",
    "warnings.filterwarnings(\"ignore\")\n",
    "\n",
    "# from pyscf import ao2mo, tools\n",
    "\n",
    "# 分子特性の指定\n",
    "num_orbitals = 16\n",
    "num_elec_a = num_elec_b = 5\n",
    "open_shell = False\n",
    "spin_sq = 0\n",
    "nelec = (num_elec_a, num_elec_b)\n",
    "\n",
    "# pyscfを使用する場合は、ディスクから分子を読み込む\n",
    "# mf_as = tools.fcidump.to_scf(\"utils/n2_fci.txt\")\n",
    "# hcore = mf_as.get_hcore()\n",
    "# eri = ao2mo.restore(1, mf_as._eri, num_orbitals)\n",
    "# nuclear_repulsion_energy = mf_as.mol.energy_nuc()\n",
    "\n",
    "# pyscfを使用しない場合は、値をロードする\n",
    "hcore = np.load(\"utils/hcore.npy\") # 1電子ハミルトニアン\n",
    "eri = np.load(\"utils/eri.npy\") # 2電子ハミルトニアン\n",
    "with open(\"utils/nuclear_repulsion_energy.pkl\", \"rb\") as f:\n",
    "    nuclear_repulsion_energy = pickle.load(f) # 原子核エネルギー"
   ]
  },
  {
   "attachments": {},
   "cell_type": "markdown",
   "id": "f4d882fa",
   "metadata": {},
   "source": [
    "## Step 2. 量子回路をロードする\n",
    "\n",
    "このチュートリアルでは、事前に準備された量子回路から始めます。 量子回路は、$N_2$ 分子のハミルトニアンをもとに近似的に作成されています。またこのアンサッツは、IBM のヘビーヘックストポロジーを念頭に置いて作成されており、量子ビットの相互作用に **ジグザグパターン** を採用しています。 このパターンでは、同じ電子スピンの軌道がヘビーヘックスの格子全体にジグザグ線で接続されています (下図参照)。\n",
    "\n",
    "![lucj_ansatz](https://quantum.cloud.ibm.com/assets-docs-learning/_next/image?url=%2Fdocs%2Fimages%2Ftutorials%2Fimproving-energy-estimation-of-a-fermionic-hamiltonian-with-sqd%2F7e0ee7e1-2d24-417f-ac59-25c58db79aa9.avif&w=1920&q=75)"
   ]
  },
  {
   "cell_type": "code",
   "execution_count": null,
   "id": "dbecf963-3a42-45fe-982a-7a1ad769c6d7",
   "metadata": {},
   "outputs": [],
   "source": [
    "from qiskit import qpy\n",
    " \n",
    "with open('utils/N2_UCJ_Transpiled.qpy', 'rb') as fd:\n",
    "    isa_circuit = qpy.load(fd)[0]"
   ]
  },
  {
   "cell_type": "markdown",
   "id": "0cc1edef",
   "metadata": {},
   "source": [
    "## Step 3. 実験を実行する"
   ]
  },
  {
   "cell_type": "markdown",
   "id": "cbf7ef9f",
   "metadata": {},
   "source": [
    "ハードウェア実行用に回路を最適化したら、ターゲット ハードウェア上で回路を実行し、基底状態のエネルギー推定のためのサンプルを収集する準備が整います。\n",
    "\n",
    "<div class=\"alert alert-block alert-warning\">\n",
    "    \n",
    "⚠️ **Note:** 量子コンピューター上で回路を実行するためのコードはコメントアウトして、ユーザーの参照用に残してあります。このチュートリアルでは、実デバイス上で実行するのではなく、以前に ``ibm_sherbrooke`` から取得した 10 万個のサンプルを読み込みます。\n",
    "\n",
    "</div>\n"
   ]
  },
  {
   "cell_type": "code",
   "execution_count": null,
   "id": "3da09100",
   "metadata": {},
   "outputs": [],
   "source": [
    "import numpy as np\n",
    "\n",
    "# from qiskit_ibm_runtime import SamplerV2 as Sampler\n",
    "\n",
    "# sampler = Sampler(mode=backend)\n",
    "# job = sampler.run([isa_circuit], shots=100_000)\n",
    "# primitive_result = job.result()\n",
    "# pub_result = primitive_result[0]\n",
    "# counts = pub_result.data.meas.get_counts()\n",
    "\n",
    "bit_array = np.load('utils/N2_device_bitarray.npy', allow_pickle=True).item()"
   ]
  },
  {
   "cell_type": "markdown",
   "id": "6df05b6e",
   "metadata": {},
   "source": [
    "## Step 4. サンプルベースの量子対角化 (SQD) を使用した結果の後処理"
   ]
  },
  {
   "cell_type": "markdown",
   "id": "851bc98e-9c08-4e78-9472-36301abc11d8",
   "metadata": {},
   "source": [
    "このセクションでは、量子回路から生成・測定された結果を後処理して、分子の基底状態エネルギーを推定します。データサンプルを修正することを繰り返し、精度を向上させます。\n",
    "\n",
    "ここで、ユーザーが設定できるオプションがいくつかあります。\n",
    "\n",
    "* `max_iterations`: ループの反復回数。\n",
    "* `num_batches`: 取り出すバッチの数 \n",
    "* `samples_per_batch`: 各バッチに含めるサンプル数\n",
    "* `max_cycles`: 固有状態ソルバーの最大サイクル数\n"
   ]
  },
  {
   "cell_type": "code",
   "execution_count": null,
   "id": "50a9b354-8b4f-4cf6-a056-4a199ceee1de",
   "metadata": {},
   "outputs": [],
   "source": [
    "%%time\n",
    "# SQDのオプション\n",
    "energy_tol = 1e-3  \n",
    "occupancies_tol = 1e-3 \n",
    "max_iterations = 5\n",
    "\n",
    "# 固有状態ソルバーのオプション\n",
    "num_batches = 5\n",
    "samples_per_batch = 50\n",
    "symmetrize_spin = True \n",
    "carryover_threshold = 1e-4 \n",
    "max_cycle = 200\n",
    "rng = np.random.default_rng(24)\n",
    "\n",
    "# 中間結果を保存するためのリスト\n",
    "result_history = [] \n",
    "\n",
    "def callback(results: list[SCIResult]): \n",
    "    result_history.append(results)\n",
    "    iteration = len(result_history)\n",
    "    print(f\"Iteration {iteration}\")\n",
    "    for i, result in enumerate(results):\n",
    "        print(f\"\\tSubsample {i}\")\n",
    "        print(f\"\\t\\tEnergy: {result.energy + nuclear_repulsion_energy}\")\n",
    "        print(f\"\\t\\tSubspace dimension: {np.prod(result.sci_state.amplitudes.shape)}\")\n",
    "\n",
    "result = diagonalize_fermionic_hamiltonian(\n",
    "    hcore,\n",
    "    eri,\n",
    "    bit_array,\n",
    "    samples_per_batch=samples_per_batch,\n",
    "    norb=num_orbitals,\n",
    "    nelec=nelec,\n",
    "    num_batches=num_batches,\n",
    "    energy_tol=energy_tol,\n",
    "    occupancies_tol=occupancies_tol,\n",
    "    max_iterations=max_iterations,\n",
    "    symmetrize_spin=symmetrize_spin,\n",
    "    carryover_threshold=carryover_threshold,\n",
    "    callback=callback,\n",
    "    seed=rng,\n",
    ")"
   ]
  },
  {
   "cell_type": "markdown",
   "id": "9d78906b-4759-4506-9c69-85d4e67766b3",
   "metadata": {},
   "source": [
    "### 結果を表示する"
   ]
  },
  {
   "cell_type": "code",
   "execution_count": null,
   "id": "caffd888-e89c-4aa9-8bae-4d1bb723b35e",
   "metadata": {},
   "outputs": [],
   "source": [
    "def plot_energy_and_occupancy(result_history, exact_energy):\n",
    "\n",
    "    # Data for energies plot\n",
    "    \n",
    "    x1 = range(len(result_history))\n",
    "    min_e = [\n",
    "        min(result, key=lambda res: res.energy).energy + nuclear_repulsion_energy\n",
    "        for result in result_history\n",
    "    ]\n",
    "    e_diff = [abs(e - exact_energy) for e in min_e]\n",
    "    yt1 = [1.0, 1e-1, 1e-2, 1e-3, 1e-4]\n",
    "    \n",
    "    # Chemical accuracy (+/- 1 milli-Hartree)\n",
    "    chem_accuracy = 0.001\n",
    "    \n",
    "    # Data for avg spatial orbital occupancy\n",
    "    y2 = np.sum(result.orbital_occupancies, axis=0)\n",
    "    x2 = range(len(y2))\n",
    "    \n",
    "    fig, axs = plt.subplots(1, 2, figsize=(12, 6))\n",
    "    \n",
    "    # Plot energies\n",
    "    axs[0].plot(x1, e_diff, label=\"energy error\", marker=\"o\")\n",
    "    axs[0].set_xticks(x1)\n",
    "    axs[0].set_xticklabels(x1)\n",
    "    axs[0].set_yticks(yt1)\n",
    "    axs[0].set_yticklabels(yt1)\n",
    "    axs[0].set_yscale(\"log\")\n",
    "    axs[0].set_ylim(1e-4)\n",
    "    axs[0].axhline(y=chem_accuracy, color=\"#BF5700\", linestyle=\"--\", label=\"chemical accuracy\")\n",
    "    axs[0].set_title(\"Approximated Ground State Energy Error vs SQD Iterations\")\n",
    "    axs[0].set_xlabel(\"Iteration Index\", fontdict={\"fontsize\": 12})\n",
    "    axs[0].set_ylabel(\"Energy Error (Ha)\", fontdict={\"fontsize\": 12})\n",
    "    axs[0].legend()\n",
    "    \n",
    "    # Plot orbital occupancy\n",
    "    axs[1].bar(x2, y2, width=0.8)\n",
    "    axs[1].set_xticks(x2)\n",
    "    axs[1].set_xticklabels(x2)\n",
    "    axs[1].set_title(\"Avg Occupancy per Spatial Orbital\")\n",
    "    axs[1].set_xlabel(\"Orbital Index\", fontdict={\"fontsize\": 12})\n",
    "    axs[1].set_ylabel(\"Avg Occupancy\", fontdict={\"fontsize\": 12})\n",
    "    \n",
    "    print(f\"Exact energy: {exact_energy:.5f} Ha\")\n",
    "    print(f\"SQD energy: {min_e[-1]:.5f} Ha\")\n",
    "    print(f\"Absolute error: {e_diff[-1]:.5f} Ha\")\n",
    "    plt.tight_layout()\n",
    "    plt.show()"
   ]
  },
  {
   "cell_type": "code",
   "execution_count": null,
   "id": "b6c6eca8-1ba9-47c8-90d5-1a465de2fd69",
   "metadata": {
    "scrolled": true
   },
   "outputs": [],
   "source": [
    "exact_energy = -109.10288938\n",
    "plot_energy_and_occupancy(result_history, exact_energy)"
   ]
  },
  {
   "cell_type": "markdown",
   "id": "afc22db7-cb0c-4a77-8aed-464cde57d5d6",
   "metadata": {},
   "source": [
    "最初のプロットは、得られたエネルギーの近似値が化学的精度からどの程度離れているかを示しています。（一般的には ``1 kcal/mol`` $\\approx$ ``1.6 mH``).\n",
    "\n",
    "2 番目のプロットは、最終の反復後の各空間軌道の平均占有率を示しています。私たちの解では、電子が二つずつ、最初の 5 つの軌道を高い確率で占有していることがわかります。"
   ]
  },
  {
   "cell_type": "markdown",
   "id": "c5503a47-f726-43c7-a690-1bcdd53805bf",
   "metadata": {},
   "source": [
    "# 2. 演習 \n",
    "\n",
    "エネルギー推定の精度を向上させるという課題に取り組みます。Part 1  の初期設定で使ったいくつかのパラメーターを変化させることでパフォーマンスにどのように影響するかを探ります。"
   ]
  },
  {
   "cell_type": "markdown",
   "id": "7860032a-d532-4958-8304-0cdf83615f32",
   "metadata": {},
   "source": [
    "<a id=\"exercise_1\"></a>\n",
    "<div class=\"alert alert-block alert-success\">\n",
    "    \n",
    "<b>基底状態エネルギー推定の改良</b> \n",
    "\n",
    "チュートリアルの例では、小さなハミルトニアンを使用し、1回の反復で、バッチ数を 5 にして、分子の基底状態エネルギーの初期近似値を取得しました。ただし、精度を向上させる余地は大きくあります。**Part 2**のタスクは、次の2つの主要なパラメーターを試して、エネルギー推定値を向上させることです。\n",
    "\n",
    "- **サンプリングサイズ** (`samples_per_batch`): バッチあたりのサンプル数を調整して、ハミルトニアンのサイズを定義します。この値を大きくすると精度が向上しますが、計算負荷が増加する可能性があります。\n",
    "- **バッチ数** (`num_batches`): バッチ数を変更して、各反復での計算効率と結果の精度のバランスを見つけます。\n",
    "\n",
    "これらのパラメーターを戦略的に使用して、推定される基底状態エネルギーを実際の値にできるだけ近づけることを目指します。ノイズやハードウェア制約の影響を考慮しながら、さまざまな組み合わせをテストしてエラーを最小限に抑えます。\n",
    "\n",
    "真の基底状態エネルギーにどれだけ近づけるか見てみましょう。\n",
    "</div>"
   ]
  },
  {
   "cell_type": "markdown",
   "id": "cc2ceb20-5ad5-45c4-a20a-61cf7295e8da",
   "metadata": {},
   "source": [
    "まず、上記と同じループを実行し、``num_batches`` および ``samples_per_batch`` 引数を入力として受け取る関数を定義します。"
   ]
  },
  {
   "cell_type": "code",
   "execution_count": null,
   "id": "7f18201a-7f34-4a4c-b8ad-cce17743b757",
   "metadata": {},
   "outputs": [],
   "source": [
    "def sqd_configuration_recovery(num_batches: int, samples_per_batch: int) -> float:\n",
    "    # SQDのオプション\n",
    "    energy_tol = 1e-3  \n",
    "    occupancies_tol = 1e-3 \n",
    "    max_iterations = 5\n",
    "    \n",
    "    # 固有状態ソルバーのオプション\n",
    "    symmetrize_spin = True \n",
    "    carryover_threshold = 1e-4 \n",
    "    max_cycle = 200\n",
    "    rng = np.random.default_rng(24)\n",
    "    \n",
    "    result = diagonalize_fermionic_hamiltonian(\n",
    "        hcore,\n",
    "        eri,\n",
    "        bit_array,\n",
    "        samples_per_batch=samples_per_batch,\n",
    "        norb=num_orbitals,\n",
    "        nelec=nelec,\n",
    "        num_batches=num_batches,\n",
    "        energy_tol=energy_tol,\n",
    "        occupancies_tol=occupancies_tol,\n",
    "        max_iterations=max_iterations,\n",
    "        symmetrize_spin=symmetrize_spin,\n",
    "        carryover_threshold=carryover_threshold,\n",
    "        callback=callback,\n",
    "        seed=rng,\n",
    "    )\n",
    "    return result_history"
   ]
  },
  {
   "cell_type": "code",
   "execution_count": null,
   "id": "3c501fcb-1d12-4982-98cb-8c55d3cb2418",
   "metadata": {},
   "outputs": [],
   "source": [
    "### この下にコードを記入してください ###\n",
    "\n",
    "num_batches = 5\n",
    "samples_per_batch = 100\n",
    "\n",
    "### この行以降のコードは変更しないでください ###"
   ]
  },
  {
   "cell_type": "code",
   "execution_count": null,
   "id": "e3892e7f-be93-4a6a-906e-87169cc3f438",
   "metadata": {},
   "outputs": [],
   "source": [
    "%%time\n",
    "result_history = [] \n",
    "energy_hist = sqd_configuration_recovery(num_batches, samples_per_batch)"
   ]
  },
  {
   "cell_type": "code",
   "execution_count": null,
   "id": "8983d7bd-41fb-4345-8ae7-ea6fe69a7ab5",
   "metadata": {},
   "outputs": [],
   "source": [
    "plot_energy_and_occupancy(result_history, exact_energy)"
   ]
  },
  {
   "cell_type": "markdown",
   "id": "f503ac76-7f3a-42a0-b50e-14fa8d041771",
   "metadata": {},
   "source": [
    "1章のチュートリアルの結果は以下でした。\n",
    "\n",
    "    Exact energy: -109.10289 Ha\n",
    "    SQD energy: -109.02333 Ha\n",
    "    Absolute error: 0.07956 Ha\n",
    "\n",
    "あなたの演習の結果は、より良くなりましたか？"
   ]
  },
  {
   "cell_type": "markdown",
   "id": "ef8dc670-c850-4e9a-9918-ba59287a45e8",
   "metadata": {},
   "source": [
    "# オプション：実機での実行"
   ]
  },
  {
   "cell_type": "markdown",
   "id": "7e8488ac-f2f2-4457-a134-0c42b629373e",
   "metadata": {},
   "source": [
    "分子とその特性を特定します。"
   ]
  },
  {
   "cell_type": "code",
   "execution_count": null,
   "id": "da7769bc-1403-42c1-8c13-78d9fe76a49d",
   "metadata": {},
   "outputs": [],
   "source": [
    "warnings.filterwarnings(\"ignore\")\n",
    "\n",
    "# 分子特性を指定する\n",
    "open_shell = False\n",
    "spin_sq = 0\n",
    "\n",
    "# N2分子を構築する\n",
    "mol = pyscf.gto.Mole()\n",
    "mol.build(\n",
    "    atom=[[\"N\", (0, 0, 0)], [\"N\", (1.0, 0, 0)]],\n",
    "    basis=\"6-31g\",\n",
    "    symmetry=\"Dooh\",\n",
    ")\n",
    "\n",
    "# アクティブスペースを定義する\n",
    "n_frozen = 2\n",
    "active_space = range(n_frozen, mol.nao_nr())\n",
    "\n",
    "# 分子積分を計算する\n",
    "scf = pyscf.scf.RHF(mol).run()\n",
    "num_orbitals = len(active_space)\n",
    "n_electrons = int(sum(scf.mo_occ[active_space]))\n",
    "num_elec_a = (n_electrons + mol.spin) // 2\n",
    "num_elec_b = (n_electrons - mol.spin) // 2\n",
    "cas = pyscf.mcscf.CASCI(scf, num_orbitals, (num_elec_a, num_elec_b))\n",
    "mo = cas.sort_mo(active_space, base=0)\n",
    "hcore, nuclear_repulsion_energy = cas.get_h1cas(mo)\n",
    "eri = pyscf.ao2mo.restore(1, cas.get_h2cas(mo), num_orbitals)\n",
    "\n",
    "# 厳密解を計算する\n",
    "exact_energy = cas.run().e_tot"
   ]
  },
  {
   "cell_type": "markdown",
   "id": "84c09caa-fdd1-4318-92c0-97b76c5bf09e",
   "metadata": {},
   "source": [
    "量子回路を構築する際のパラメーターを計算します。"
   ]
  },
  {
   "cell_type": "code",
   "execution_count": null,
   "id": "146e91bb-4386-429c-be69-89ac5d40ccee",
   "metadata": {},
   "outputs": [],
   "source": [
    "# 回路を初期化するためのCCSD t1, t2振幅を得る\n",
    "ccsd = pyscf.cc.CCSD(scf, frozen=[i for i in range(mol.nao_nr()) if i not in active_space]).run()\n",
    "t1 = ccsd.t1\n",
    "t2 = ccsd.t2"
   ]
  },
  {
   "cell_type": "markdown",
   "id": "7f51ea2b-f637-4764-bc48-64ca71008a4d",
   "metadata": {},
   "source": [
    "[ffsim](https://github.com/qiskit-community/ffsim)を使用して量子回路を作成します。"
   ]
  },
  {
   "cell_type": "code",
   "execution_count": null,
   "id": "cf408b75-10fd-47e6-9b01-aba1fc0dfa25",
   "metadata": {},
   "outputs": [],
   "source": [
    "n_reps = 1\n",
    "alpha_alpha_indices = [(p, p + 1) for p in range(num_orbitals - 1)]\n",
    "alpha_beta_indices = [(p, p) for p in range(0, num_orbitals, 4)]\n",
    "\n",
    "ucj_op = ffsim.UCJOpSpinBalanced.from_t_amplitudes(\n",
    "    t2=t2,\n",
    "    t1=t1,\n",
    "    n_reps=n_reps,\n",
    "    interaction_pairs=(alpha_alpha_indices, alpha_beta_indices),\n",
    ")\n",
    "\n",
    "nelec = (num_elec_a, num_elec_b)\n",
    "\n",
    "# create an empty quantum circuit\n",
    "qubits = QuantumRegister(2 * num_orbitals, name=\"q\")\n",
    "circuit = QuantumCircuit(qubits)\n",
    "\n",
    "# prepare Hartree-Fock state as the reference state and append it to the quantum circuit\n",
    "circuit.append(ffsim.qiskit.PrepareHartreeFockJW(num_orbitals, nelec), qubits)\n",
    "\n",
    "# apply the UCJ operator to the reference state\n",
    "circuit.append(ffsim.qiskit.UCJOpSpinBalancedJW(ucj_op), qubits)\n",
    "circuit.measure_all()\n",
    "\n",
    "circuit.decompose().decompose().draw(\"mpl\", fold =-1)"
   ]
  },
  {
   "cell_type": "markdown",
   "id": "d74522f2-3daa-4cc2-919d-8d70fe93ce64",
   "metadata": {},
   "source": [
    "量子コンピューターのデバイスを指定します。ここでは、127量子ビットのデバイス、「ibm_brisbane」か「ibm_sherbrooke」を使います。"
   ]
  },
  {
   "cell_type": "code",
   "execution_count": null,
   "id": "a87f9060-7f1a-423d-990a-2a3abf51385b",
   "metadata": {},
   "outputs": [],
   "source": [
    "service = QiskitRuntimeService()\n",
    "service.backends()"
   ]
  },
  {
   "cell_type": "code",
   "execution_count": null,
   "id": "4531b1f9-2c34-422f-82f3-e62cb8244c95",
   "metadata": {},
   "outputs": [],
   "source": [
    "# 以下でデバイスを指定します。\n",
    "backend = service.backend('ibm_brisbane') \n",
    "#backend = service.backend('ibm_sherbrooke') "
   ]
  },
  {
   "cell_type": "markdown",
   "id": "608f9409-6643-41e1-ac3e-157e48a2f4aa",
   "metadata": {},
   "source": [
    "デバイス上の物理量子ビットを指定し、回路を実機で実行できるようにトランスパイルします。"
   ]
  },
  {
   "cell_type": "code",
   "execution_count": null,
   "id": "80205f06-c242-4d63-9896-4b9732adb3be",
   "metadata": {},
   "outputs": [],
   "source": [
    "spin_a_layout = [0, 14, 18, 19, 20, 33, 39, 40, 41, 53, 60, 61, 62, 72, 81, 82]\n",
    "spin_b_layout = [2, 3, 4, 15, 22, 23, 24, 34, 43, 44, 45, 54, 64, 65, 66, 73]\n",
    "initial_layout = spin_a_layout + spin_b_layout\n",
    "\n",
    "pass_manager = generate_preset_pass_manager(\n",
    "    optimization_level=3, backend=backend, initial_layout=initial_layout\n",
    ")\n",
    "\n",
    "# このパスマネージャーによって生成された回路をハードウェア実行に使用します。\n",
    "pass_manager.pre_init = ffsim.qiskit.PRE_INIT\n",
    "isa_circuit = pass_manager.run(circuit)\n",
    "print(f\"Gate counts (w/ pre-init passes): {isa_circuit.count_ops()}\")"
   ]
  },
  {
   "cell_type": "markdown",
   "id": "730a1392-03eb-403a-9e0b-bd836795e3ee",
   "metadata": {},
   "source": [
    "回路を実行します。"
   ]
  },
  {
   "cell_type": "code",
   "execution_count": null,
   "id": "b75d1bc4-97d5-47f7-8e21-d4a76b3bc09e",
   "metadata": {},
   "outputs": [],
   "source": [
    "opts = SamplerOptions()\n",
    "opts.dynamical_decoupling.enable = True\n",
    "opts.twirling.enable_measure = True\n",
    "\n",
    "sampler = Sampler(mode=backend, options=opts)\n",
    "job = sampler.run([isa_circuit], shots=100_000)\n",
    "print(\"job id:\", job.job_id())\n",
    "job.status()"
   ]
  },
  {
   "cell_type": "code",
   "execution_count": null,
   "id": "af320a83-c101-4c71-91be-fc4921c9133e",
   "metadata": {},
   "outputs": [],
   "source": [
    "job = service.job(job.job_id())\n",
    "job.status() # ジョブの実行状態を確認します"
   ]
  },
  {
   "cell_type": "markdown",
   "id": "db28598b-9c07-4300-acba-bb3316b15756",
   "metadata": {},
   "source": [
    "上記のセルを何回か実行して、'DONE' が表示されたら、実機での実行が終わっているので、以下のセルを実行します。"
   ]
  },
  {
   "cell_type": "code",
   "execution_count": null,
   "id": "2109d9ea-0f26-4a8d-8542-6e54fdbf3599",
   "metadata": {},
   "outputs": [],
   "source": [
    "### 'DONE'になってから実行します ###\n",
    "%%time\n",
    "result_history = [] \n",
    "energy_hist = sqd_configuration_recovery(num_batches, samples_per_batch)"
   ]
  },
  {
   "cell_type": "code",
   "execution_count": null,
   "id": "2e553f3f-b3af-4b74-984c-7e3823512cb3",
   "metadata": {},
   "outputs": [],
   "source": [
    "plot_energy_and_occupancy(result_history, exact_energy)"
   ]
  },
  {
   "cell_type": "code",
   "execution_count": null,
   "id": "02101d9a-fad5-49a7-bec9-e203b7b7ecac",
   "metadata": {},
   "outputs": [],
   "source": []
  }
 ],
 "metadata": {
  "kernelspec": {
   "display_name": "Python 3 (ipykernel)",
   "language": "python",
   "name": "python3"
  },
  "language_info": {
   "codemirror_mode": {
    "name": "ipython",
    "version": 3
   },
   "file_extension": ".py",
   "mimetype": "text/x-python",
   "name": "python",
   "nbconvert_exporter": "python",
   "pygments_lexer": "ipython3",
   "version": "3.12.3"
  }
 },
 "nbformat": 4,
 "nbformat_minor": 5
}
